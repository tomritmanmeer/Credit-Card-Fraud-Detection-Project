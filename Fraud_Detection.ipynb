{
  "nbformat": 4,
  "nbformat_minor": 0,
  "metadata": {
    "colab": {
      "name": "Fraud_Detection.ipynb",
      "provenance": [],
      "collapsed_sections": []
    },
    "kernelspec": {
      "name": "python3",
      "display_name": "Python 3"
    },
    "language_info": {
      "name": "python"
    }
  },
  "cells": [
    {
      "cell_type": "markdown",
      "source": [
        "# Fraud Detection Dataset Project\n",
        "## Tom Ritman-Meer using Google Colaboratory notebook\n",
        "\n",
        "In this notebook I will deploy machine learning models to predict the probability of a credit card transaction being fraudulent based a number of PCA parameters. \n",
        "\n",
        "The project consists of the following steps:\n",
        "* Retreiving the dataset from Kaggle.com\n",
        "* Exploratory Data Analysis\n",
        "* Feature Engineering of the data into a suitable form for models\n",
        "* Building and comparing machine learning models\n",
        "* Submission of prediction data in a suitable form to Kaggle.com"
      ],
      "metadata": {
        "id": "VwOgSncOoyY2"
      }
    },
    {
      "cell_type": "code",
      "source": [
        "# Steps to download creditcard.csv from kaggle\n",
        "!mkdir ~/.kaggle\n",
        "!cp /content/drive/MyDrive/kaggle.json ~/.kaggle/kaggle.json\n",
        "!chmod 600 ~/.kaggle/kaggle.json\n",
        "!kaggle datasets download -d mlg-ulb/creditcardfraud\n",
        "!unzip creditcardfraud.zip"
      ],
      "metadata": {
        "colab": {
          "base_uri": "https://localhost:8080/"
        },
        "id": "6KU6zro6ZgIA",
        "outputId": "197bfacf-8930-4f85-d370-4a51b9a5c848"
      },
      "execution_count": 18,
      "outputs": [
        {
          "output_type": "stream",
          "name": "stdout",
          "text": [
            "mkdir: cannot create directory ‘/root/.kaggle’: File exists\n",
            "creditcardfraud.zip: Skipping, found more recently modified local copy (use --force to force download)\n",
            "Archive:  creditcardfraud.zip\n",
            "replace creditcard.csv? [y]es, [n]o, [A]ll, [N]one, [r]ename: n\n"
          ]
        }
      ]
    },
    {
      "cell_type": "code",
      "execution_count": 19,
      "metadata": {
        "id": "JCyVJ4EUJy5Q"
      },
      "outputs": [],
      "source": [
        "import numpy as np\n",
        "import pandas as pd\n",
        "import matplotlib.pyplot as plt\n",
        "import seaborn as sns\n",
        "%matplotlib inline"
      ]
    },
    {
      "cell_type": "code",
      "source": [
        "df = pd.read_csv('creditcard.csv')\n",
        "df.head()"
      ],
      "metadata": {
        "colab": {
          "base_uri": "https://localhost:8080/",
          "height": 270
        },
        "id": "zkaVuX-kPHf2",
        "outputId": "d7028038-9f48-4b8f-eef2-a6c000dc6e5b"
      },
      "execution_count": 20,
      "outputs": [
        {
          "output_type": "execute_result",
          "data": {
            "text/html": [
              "\n",
              "  <div id=\"df-c8a8e209-3281-45d8-bfd0-5b4bb49827e4\">\n",
              "    <div class=\"colab-df-container\">\n",
              "      <div>\n",
              "<style scoped>\n",
              "    .dataframe tbody tr th:only-of-type {\n",
              "        vertical-align: middle;\n",
              "    }\n",
              "\n",
              "    .dataframe tbody tr th {\n",
              "        vertical-align: top;\n",
              "    }\n",
              "\n",
              "    .dataframe thead th {\n",
              "        text-align: right;\n",
              "    }\n",
              "</style>\n",
              "<table border=\"1\" class=\"dataframe\">\n",
              "  <thead>\n",
              "    <tr style=\"text-align: right;\">\n",
              "      <th></th>\n",
              "      <th>Time</th>\n",
              "      <th>V1</th>\n",
              "      <th>V2</th>\n",
              "      <th>V3</th>\n",
              "      <th>V4</th>\n",
              "      <th>V5</th>\n",
              "      <th>V6</th>\n",
              "      <th>V7</th>\n",
              "      <th>V8</th>\n",
              "      <th>V9</th>\n",
              "      <th>V10</th>\n",
              "      <th>V11</th>\n",
              "      <th>V12</th>\n",
              "      <th>V13</th>\n",
              "      <th>V14</th>\n",
              "      <th>V15</th>\n",
              "      <th>V16</th>\n",
              "      <th>V17</th>\n",
              "      <th>V18</th>\n",
              "      <th>V19</th>\n",
              "      <th>V20</th>\n",
              "      <th>V21</th>\n",
              "      <th>V22</th>\n",
              "      <th>V23</th>\n",
              "      <th>V24</th>\n",
              "      <th>V25</th>\n",
              "      <th>V26</th>\n",
              "      <th>V27</th>\n",
              "      <th>V28</th>\n",
              "      <th>Amount</th>\n",
              "      <th>Class</th>\n",
              "    </tr>\n",
              "  </thead>\n",
              "  <tbody>\n",
              "    <tr>\n",
              "      <th>0</th>\n",
              "      <td>0.0</td>\n",
              "      <td>-1.359807</td>\n",
              "      <td>-0.072781</td>\n",
              "      <td>2.536347</td>\n",
              "      <td>1.378155</td>\n",
              "      <td>-0.338321</td>\n",
              "      <td>0.462388</td>\n",
              "      <td>0.239599</td>\n",
              "      <td>0.098698</td>\n",
              "      <td>0.363787</td>\n",
              "      <td>0.090794</td>\n",
              "      <td>-0.551600</td>\n",
              "      <td>-0.617801</td>\n",
              "      <td>-0.991390</td>\n",
              "      <td>-0.311169</td>\n",
              "      <td>1.468177</td>\n",
              "      <td>-0.470401</td>\n",
              "      <td>0.207971</td>\n",
              "      <td>0.025791</td>\n",
              "      <td>0.403993</td>\n",
              "      <td>0.251412</td>\n",
              "      <td>-0.018307</td>\n",
              "      <td>0.277838</td>\n",
              "      <td>-0.110474</td>\n",
              "      <td>0.066928</td>\n",
              "      <td>0.128539</td>\n",
              "      <td>-0.189115</td>\n",
              "      <td>0.133558</td>\n",
              "      <td>-0.021053</td>\n",
              "      <td>149.62</td>\n",
              "      <td>0</td>\n",
              "    </tr>\n",
              "    <tr>\n",
              "      <th>1</th>\n",
              "      <td>0.0</td>\n",
              "      <td>1.191857</td>\n",
              "      <td>0.266151</td>\n",
              "      <td>0.166480</td>\n",
              "      <td>0.448154</td>\n",
              "      <td>0.060018</td>\n",
              "      <td>-0.082361</td>\n",
              "      <td>-0.078803</td>\n",
              "      <td>0.085102</td>\n",
              "      <td>-0.255425</td>\n",
              "      <td>-0.166974</td>\n",
              "      <td>1.612727</td>\n",
              "      <td>1.065235</td>\n",
              "      <td>0.489095</td>\n",
              "      <td>-0.143772</td>\n",
              "      <td>0.635558</td>\n",
              "      <td>0.463917</td>\n",
              "      <td>-0.114805</td>\n",
              "      <td>-0.183361</td>\n",
              "      <td>-0.145783</td>\n",
              "      <td>-0.069083</td>\n",
              "      <td>-0.225775</td>\n",
              "      <td>-0.638672</td>\n",
              "      <td>0.101288</td>\n",
              "      <td>-0.339846</td>\n",
              "      <td>0.167170</td>\n",
              "      <td>0.125895</td>\n",
              "      <td>-0.008983</td>\n",
              "      <td>0.014724</td>\n",
              "      <td>2.69</td>\n",
              "      <td>0</td>\n",
              "    </tr>\n",
              "    <tr>\n",
              "      <th>2</th>\n",
              "      <td>1.0</td>\n",
              "      <td>-1.358354</td>\n",
              "      <td>-1.340163</td>\n",
              "      <td>1.773209</td>\n",
              "      <td>0.379780</td>\n",
              "      <td>-0.503198</td>\n",
              "      <td>1.800499</td>\n",
              "      <td>0.791461</td>\n",
              "      <td>0.247676</td>\n",
              "      <td>-1.514654</td>\n",
              "      <td>0.207643</td>\n",
              "      <td>0.624501</td>\n",
              "      <td>0.066084</td>\n",
              "      <td>0.717293</td>\n",
              "      <td>-0.165946</td>\n",
              "      <td>2.345865</td>\n",
              "      <td>-2.890083</td>\n",
              "      <td>1.109969</td>\n",
              "      <td>-0.121359</td>\n",
              "      <td>-2.261857</td>\n",
              "      <td>0.524980</td>\n",
              "      <td>0.247998</td>\n",
              "      <td>0.771679</td>\n",
              "      <td>0.909412</td>\n",
              "      <td>-0.689281</td>\n",
              "      <td>-0.327642</td>\n",
              "      <td>-0.139097</td>\n",
              "      <td>-0.055353</td>\n",
              "      <td>-0.059752</td>\n",
              "      <td>378.66</td>\n",
              "      <td>0</td>\n",
              "    </tr>\n",
              "    <tr>\n",
              "      <th>3</th>\n",
              "      <td>1.0</td>\n",
              "      <td>-0.966272</td>\n",
              "      <td>-0.185226</td>\n",
              "      <td>1.792993</td>\n",
              "      <td>-0.863291</td>\n",
              "      <td>-0.010309</td>\n",
              "      <td>1.247203</td>\n",
              "      <td>0.237609</td>\n",
              "      <td>0.377436</td>\n",
              "      <td>-1.387024</td>\n",
              "      <td>-0.054952</td>\n",
              "      <td>-0.226487</td>\n",
              "      <td>0.178228</td>\n",
              "      <td>0.507757</td>\n",
              "      <td>-0.287924</td>\n",
              "      <td>-0.631418</td>\n",
              "      <td>-1.059647</td>\n",
              "      <td>-0.684093</td>\n",
              "      <td>1.965775</td>\n",
              "      <td>-1.232622</td>\n",
              "      <td>-0.208038</td>\n",
              "      <td>-0.108300</td>\n",
              "      <td>0.005274</td>\n",
              "      <td>-0.190321</td>\n",
              "      <td>-1.175575</td>\n",
              "      <td>0.647376</td>\n",
              "      <td>-0.221929</td>\n",
              "      <td>0.062723</td>\n",
              "      <td>0.061458</td>\n",
              "      <td>123.50</td>\n",
              "      <td>0</td>\n",
              "    </tr>\n",
              "    <tr>\n",
              "      <th>4</th>\n",
              "      <td>2.0</td>\n",
              "      <td>-1.158233</td>\n",
              "      <td>0.877737</td>\n",
              "      <td>1.548718</td>\n",
              "      <td>0.403034</td>\n",
              "      <td>-0.407193</td>\n",
              "      <td>0.095921</td>\n",
              "      <td>0.592941</td>\n",
              "      <td>-0.270533</td>\n",
              "      <td>0.817739</td>\n",
              "      <td>0.753074</td>\n",
              "      <td>-0.822843</td>\n",
              "      <td>0.538196</td>\n",
              "      <td>1.345852</td>\n",
              "      <td>-1.119670</td>\n",
              "      <td>0.175121</td>\n",
              "      <td>-0.451449</td>\n",
              "      <td>-0.237033</td>\n",
              "      <td>-0.038195</td>\n",
              "      <td>0.803487</td>\n",
              "      <td>0.408542</td>\n",
              "      <td>-0.009431</td>\n",
              "      <td>0.798278</td>\n",
              "      <td>-0.137458</td>\n",
              "      <td>0.141267</td>\n",
              "      <td>-0.206010</td>\n",
              "      <td>0.502292</td>\n",
              "      <td>0.219422</td>\n",
              "      <td>0.215153</td>\n",
              "      <td>69.99</td>\n",
              "      <td>0</td>\n",
              "    </tr>\n",
              "  </tbody>\n",
              "</table>\n",
              "</div>\n",
              "      <button class=\"colab-df-convert\" onclick=\"convertToInteractive('df-c8a8e209-3281-45d8-bfd0-5b4bb49827e4')\"\n",
              "              title=\"Convert this dataframe to an interactive table.\"\n",
              "              style=\"display:none;\">\n",
              "        \n",
              "  <svg xmlns=\"http://www.w3.org/2000/svg\" height=\"24px\"viewBox=\"0 0 24 24\"\n",
              "       width=\"24px\">\n",
              "    <path d=\"M0 0h24v24H0V0z\" fill=\"none\"/>\n",
              "    <path d=\"M18.56 5.44l.94 2.06.94-2.06 2.06-.94-2.06-.94-.94-2.06-.94 2.06-2.06.94zm-11 1L8.5 8.5l.94-2.06 2.06-.94-2.06-.94L8.5 2.5l-.94 2.06-2.06.94zm10 10l.94 2.06.94-2.06 2.06-.94-2.06-.94-.94-2.06-.94 2.06-2.06.94z\"/><path d=\"M17.41 7.96l-1.37-1.37c-.4-.4-.92-.59-1.43-.59-.52 0-1.04.2-1.43.59L10.3 9.45l-7.72 7.72c-.78.78-.78 2.05 0 2.83L4 21.41c.39.39.9.59 1.41.59.51 0 1.02-.2 1.41-.59l7.78-7.78 2.81-2.81c.8-.78.8-2.07 0-2.86zM5.41 20L4 18.59l7.72-7.72 1.47 1.35L5.41 20z\"/>\n",
              "  </svg>\n",
              "      </button>\n",
              "      \n",
              "  <style>\n",
              "    .colab-df-container {\n",
              "      display:flex;\n",
              "      flex-wrap:wrap;\n",
              "      gap: 12px;\n",
              "    }\n",
              "\n",
              "    .colab-df-convert {\n",
              "      background-color: #E8F0FE;\n",
              "      border: none;\n",
              "      border-radius: 50%;\n",
              "      cursor: pointer;\n",
              "      display: none;\n",
              "      fill: #1967D2;\n",
              "      height: 32px;\n",
              "      padding: 0 0 0 0;\n",
              "      width: 32px;\n",
              "    }\n",
              "\n",
              "    .colab-df-convert:hover {\n",
              "      background-color: #E2EBFA;\n",
              "      box-shadow: 0px 1px 2px rgba(60, 64, 67, 0.3), 0px 1px 3px 1px rgba(60, 64, 67, 0.15);\n",
              "      fill: #174EA6;\n",
              "    }\n",
              "\n",
              "    [theme=dark] .colab-df-convert {\n",
              "      background-color: #3B4455;\n",
              "      fill: #D2E3FC;\n",
              "    }\n",
              "\n",
              "    [theme=dark] .colab-df-convert:hover {\n",
              "      background-color: #434B5C;\n",
              "      box-shadow: 0px 1px 3px 1px rgba(0, 0, 0, 0.15);\n",
              "      filter: drop-shadow(0px 1px 2px rgba(0, 0, 0, 0.3));\n",
              "      fill: #FFFFFF;\n",
              "    }\n",
              "  </style>\n",
              "\n",
              "      <script>\n",
              "        const buttonEl =\n",
              "          document.querySelector('#df-c8a8e209-3281-45d8-bfd0-5b4bb49827e4 button.colab-df-convert');\n",
              "        buttonEl.style.display =\n",
              "          google.colab.kernel.accessAllowed ? 'block' : 'none';\n",
              "\n",
              "        async function convertToInteractive(key) {\n",
              "          const element = document.querySelector('#df-c8a8e209-3281-45d8-bfd0-5b4bb49827e4');\n",
              "          const dataTable =\n",
              "            await google.colab.kernel.invokeFunction('convertToInteractive',\n",
              "                                                     [key], {});\n",
              "          if (!dataTable) return;\n",
              "\n",
              "          const docLinkHtml = 'Like what you see? Visit the ' +\n",
              "            '<a target=\"_blank\" href=https://colab.research.google.com/notebooks/data_table.ipynb>data table notebook</a>'\n",
              "            + ' to learn more about interactive tables.';\n",
              "          element.innerHTML = '';\n",
              "          dataTable['output_type'] = 'display_data';\n",
              "          await google.colab.output.renderOutput(dataTable, element);\n",
              "          const docLink = document.createElement('div');\n",
              "          docLink.innerHTML = docLinkHtml;\n",
              "          element.appendChild(docLink);\n",
              "        }\n",
              "      </script>\n",
              "    </div>\n",
              "  </div>\n",
              "  "
            ],
            "text/plain": [
              "   Time        V1        V2        V3  ...       V27       V28  Amount  Class\n",
              "0   0.0 -1.359807 -0.072781  2.536347  ...  0.133558 -0.021053  149.62      0\n",
              "1   0.0  1.191857  0.266151  0.166480  ... -0.008983  0.014724    2.69      0\n",
              "2   1.0 -1.358354 -1.340163  1.773209  ... -0.055353 -0.059752  378.66      0\n",
              "3   1.0 -0.966272 -0.185226  1.792993  ...  0.062723  0.061458  123.50      0\n",
              "4   2.0 -1.158233  0.877737  1.548718  ...  0.219422  0.215153   69.99      0\n",
              "\n",
              "[5 rows x 31 columns]"
            ]
          },
          "metadata": {},
          "execution_count": 20
        }
      ]
    },
    {
      "cell_type": "code",
      "source": [
        "df.hist(figsize=(15,15), bins = 64)"
      ],
      "metadata": {
        "colab": {
          "base_uri": "https://localhost:8080/",
          "height": 1000
        },
        "id": "kgtuQmC6T4OP",
        "outputId": "97411400-ca2e-495b-a3c5-f6a749ec187a"
      },
      "execution_count": 25,
      "outputs": [
        {
          "output_type": "execute_result",
          "data": {
            "text/plain": [
              "array([[<matplotlib.axes._subplots.AxesSubplot object at 0x7fad874a5150>,\n",
              "        <matplotlib.axes._subplots.AxesSubplot object at 0x7fad874a5950>,\n",
              "        <matplotlib.axes._subplots.AxesSubplot object at 0x7fad874e7650>,\n",
              "        <matplotlib.axes._subplots.AxesSubplot object at 0x7fad86f95c50>,\n",
              "        <matplotlib.axes._subplots.AxesSubplot object at 0x7fad86f52290>,\n",
              "        <matplotlib.axes._subplots.AxesSubplot object at 0x7fad86f07890>],\n",
              "       [<matplotlib.axes._subplots.AxesSubplot object at 0x7fad86ebcf10>,\n",
              "        <matplotlib.axes._subplots.AxesSubplot object at 0x7fad86e7f490>,\n",
              "        <matplotlib.axes._subplots.AxesSubplot object at 0x7fad86e7f4d0>,\n",
              "        <matplotlib.axes._subplots.AxesSubplot object at 0x7fad86e35bd0>,\n",
              "        <matplotlib.axes._subplots.AxesSubplot object at 0x7fad86dae710>,\n",
              "        <matplotlib.axes._subplots.AxesSubplot object at 0x7fad86d65d10>],\n",
              "       [<matplotlib.axes._subplots.AxesSubplot object at 0x7fad86d28350>,\n",
              "        <matplotlib.axes._subplots.AxesSubplot object at 0x7fad86d5d950>,\n",
              "        <matplotlib.axes._subplots.AxesSubplot object at 0x7fad86d13f50>,\n",
              "        <matplotlib.axes._subplots.AxesSubplot object at 0x7fad86cd5590>,\n",
              "        <matplotlib.axes._subplots.AxesSubplot object at 0x7fad86c8bb90>,\n",
              "        <matplotlib.axes._subplots.AxesSubplot object at 0x7fad86c4f1d0>],\n",
              "       [<matplotlib.axes._subplots.AxesSubplot object at 0x7fad86c047d0>,\n",
              "        <matplotlib.axes._subplots.AxesSubplot object at 0x7fad86bc6e90>,\n",
              "        <matplotlib.axes._subplots.AxesSubplot object at 0x7fad86b864d0>,\n",
              "        <matplotlib.axes._subplots.AxesSubplot object at 0x7fad86b37ad0>,\n",
              "        <matplotlib.axes._subplots.AxesSubplot object at 0x7fad86afb110>,\n",
              "        <matplotlib.axes._subplots.AxesSubplot object at 0x7fad86ab0710>],\n",
              "       [<matplotlib.axes._subplots.AxesSubplot object at 0x7fad86a66d10>,\n",
              "        <matplotlib.axes._subplots.AxesSubplot object at 0x7fad86a28350>,\n",
              "        <matplotlib.axes._subplots.AxesSubplot object at 0x7fad86a5f950>,\n",
              "        <matplotlib.axes._subplots.AxesSubplot object at 0x7fad86a15f50>,\n",
              "        <matplotlib.axes._subplots.AxesSubplot object at 0x7fad869d9590>,\n",
              "        <matplotlib.axes._subplots.AxesSubplot object at 0x7fad8698fb90>],\n",
              "       [<matplotlib.axes._subplots.AxesSubplot object at 0x7fad869511d0>,\n",
              "        <matplotlib.axes._subplots.AxesSubplot object at 0x7fad86908790>,\n",
              "        <matplotlib.axes._subplots.AxesSubplot object at 0x7fad868c3810>,\n",
              "        <matplotlib.axes._subplots.AxesSubplot object at 0x7fad86878d10>,\n",
              "        <matplotlib.axes._subplots.AxesSubplot object at 0x7fad8683c210>,\n",
              "        <matplotlib.axes._subplots.AxesSubplot object at 0x7fad867f3750>]],\n",
              "      dtype=object)"
            ]
          },
          "metadata": {},
          "execution_count": 25
        },
        {
          "output_type": "display_data",
          "data": {
            "image/png": "[encoded data removed]",
            "text/plain": [
              "<Figure size 1080x1080 with 36 Axes>"
            ]
          },
          "metadata": {}
        }
      ]
    },
    {
      "cell_type": "code",
      "source": [
        "df[df['Class']==0]['Time'].describe()"
      ],
      "metadata": {
        "colab": {
          "base_uri": "https://localhost:8080/"
        },
        "id": "oDwDIBvnKOOq",
        "outputId": "d66d819f-fcb0-48ab-ac37-6e873288cab6"
      },
      "execution_count": 22,
      "outputs": [
        {
          "output_type": "execute_result",
          "data": {
            "text/plain": [
              "count    284315.000000\n",
              "mean      94838.202258\n",
              "std       47484.015786\n",
              "min           0.000000\n",
              "25%       54230.000000\n",
              "50%       84711.000000\n",
              "75%      139333.000000\n",
              "max      172792.000000\n",
              "Name: Time, dtype: float64"
            ]
          },
          "metadata": {},
          "execution_count": 22
        }
      ]
    },
    {
      "cell_type": "code",
      "source": [
        "df[df['Class']==1]['Time'].describe()"
      ],
      "metadata": {
        "colab": {
          "base_uri": "https://localhost:8080/"
        },
        "id": "Y6GOF6f5RzjI",
        "outputId": "5729946d-5a24-4c5d-e317-41a449f8e14c"
      },
      "execution_count": 23,
      "outputs": [
        {
          "output_type": "execute_result",
          "data": {
            "text/plain": [
              "count       492.000000\n",
              "mean      80746.806911\n",
              "std       47835.365138\n",
              "min         406.000000\n",
              "25%       41241.500000\n",
              "50%       75568.500000\n",
              "75%      128483.000000\n",
              "max      170348.000000\n",
              "Name: Time, dtype: float64"
            ]
          },
          "metadata": {},
          "execution_count": 23
        }
      ]
    },
    {
      "cell_type": "code",
      "source": [
        "sns.set_style('darkgrid')\n",
        "sns.countplot(x='Class',data=df)"
      ],
      "metadata": {
        "colab": {
          "base_uri": "https://localhost:8080/",
          "height": 296
        },
        "id": "05zPLtZlKUNU",
        "outputId": "8a62581b-7c40-43f9-f580-55574ec9b5ff"
      },
      "execution_count": 24,
      "outputs": [
        {
          "output_type": "execute_result",
          "data": {
            "text/plain": [
              "<matplotlib.axes._subplots.AxesSubplot at 0x7fad8756d9d0>"
            ]
          },
          "metadata": {},
          "execution_count": 24
        },
        {
          "output_type": "display_data",
          "data": {
            "image/png": "[encoded data removed]",
            "text/plain": [
              "<Figure size 432x288 with 1 Axes>"
            ]
          },
          "metadata": {}
        }
      ]
    },
    {
      "cell_type": "code",
      "source": [
        "fraudulent = df[df['Class'] == 1]\n",
        "legitimate = df[df['Class'] == 0]\n",
        "\n",
        "fig, ax = plt.subplots(2, 1, sharex=True, figsize=(10, 5))\n",
        "\n",
        "ax[0].scatter(fraudulent['Time'], fraudulent['Amount'], c='red')\n",
        "ax[0].set_title('Fraudulent')\n",
        "ax[0].set_xlabel('Time / s')\n",
        "ax[0].set_ylabel('Amount')\n",
        "ax[1].scatter(legitimate['Time'], legitimate['Amount'],c='blue')\n",
        "ax[1].set_title('Legitimate')\n",
        "ax[1].set_xlabel('Time / s')\n",
        "ax[1].set_ylabel('Amount')\n",
        "plt.tight_layout()"
      ],
      "metadata": {
        "colab": {
          "base_uri": "https://localhost:8080/",
          "height": 369
        },
        "outputId": "9886b7f1-4f54-45ea-e4c4-b8e83d8a0cf4",
        "id": "9PX6GmSYV2MY"
      },
      "execution_count": 60,
      "outputs": [
        {
          "output_type": "display_data",
          "data": {
            "image/png": "[encoded data removed]",
            "text/plain": [
              "<Figure size 720x360 with 2 Axes>"
            ]
          },
          "metadata": {}
        }
      ]
    },
    {
      "cell_type": "code",
      "source": [
        "df.groupby('Class')['Class'].count()"
      ],
      "metadata": {
        "colab": {
          "base_uri": "https://localhost:8080/"
        },
        "id": "VaeX9kcJPgSg",
        "outputId": "bb486b33-b071-4aaa-f7fd-1b5d745e699f"
      },
      "execution_count": 59,
      "outputs": [
        {
          "output_type": "execute_result",
          "data": {
            "text/plain": [
              "Class\n",
              "0    284315\n",
              "1       492\n",
              "Name: Class, dtype: int64"
            ]
          },
          "metadata": {},
          "execution_count": 59
        }
      ]
    },
    {
      "cell_type": "code",
      "source": [
        "plt.figure(figsize=(6,6))\n",
        "\n",
        "#explode = [0,0.001]\n",
        "plt.pie(df['Class'].value_counts(),autopct='%1.2f%%')\n",
        "plt.legend(labels=['0','1'])\n",
        "plt.title('Class Distribution');\n",
        "\n",
        "#Data is highly unbalanced."
      ],
      "metadata": {
        "colab": {
          "base_uri": "https://localhost:8080/",
          "height": 373
        },
        "id": "j7ouhHoBYX7X",
        "outputId": "3605aaa3-0e51-43ba-ac42-82f466e72bca"
      },
      "execution_count": 48,
      "outputs": [
        {
          "output_type": "display_data",
          "data": {
            "image/png": "[encoded data removed]",
            "text/plain": [
              "<Figure size 432x432 with 1 Axes>"
            ]
          },
          "metadata": {}
        }
      ]
    },
    {
      "cell_type": "code",
      "source": [
        "plt.figure(figsize=(10,6))\n",
        "sns.heatmap(df.corr(),cmap='Blues')"
      ],
      "metadata": {
        "colab": {
          "base_uri": "https://localhost:8080/",
          "height": 424
        },
        "id": "rsck1vaJPjOh",
        "outputId": "32ed96c5-2a4b-42de-c262-4cd4335fa437"
      },
      "execution_count": 57,
      "outputs": [
        {
          "output_type": "execute_result",
          "data": {
            "text/plain": [
              "<matplotlib.axes._subplots.AxesSubplot at 0x7fad834e0e50>"
            ]
          },
          "metadata": {},
          "execution_count": 57
        },
        {
          "output_type": "display_data",
          "data": {
            "image/png": "[encoded data removed]",
            "text/plain": [
              "<Figure size 720x432 with 2 Axes>"
            ]
          },
          "metadata": {}
        }
      ]
    },
    {
      "cell_type": "code",
      "source": [
        "plt.figure(figsize=(12,6))\n",
        "\n",
        "df[df['Class']==1]['Amount'].hist(alpha=1,color='red', bins=2500,label='Fraudulent')\n",
        "df[df['Class']==0]['Amount'].hist(alpha=0.2,color='darkblue', bins=2500,label='Legitimate')\n",
        "\n",
        "plt.legend()\n",
        "plt.xlabel('Amount in Euros')\n",
        "plt.xlim(0,300)\n",
        "sns.histplot()"
      ],
      "metadata": {
        "colab": {
          "base_uri": "https://localhost:8080/",
          "height": 405
        },
        "id": "3k4c7o_dPlTO",
        "outputId": "e855ab96-65a0-423f-9fbd-7a71b21209fc"
      },
      "execution_count": 58,
      "outputs": [
        {
          "output_type": "execute_result",
          "data": {
            "text/plain": [
              "<matplotlib.axes._subplots.AxesSubplot at 0x7fad84ffda10>"
            ]
          },
          "metadata": {},
          "execution_count": 58
        },
        {
          "output_type": "display_data",
          "data": {
            "image/png": "[encoded data removed]",
            "text/plain": [
              "<Figure size 864x432 with 1 Axes>"
            ]
          },
          "metadata": {}
        }
      ]
    },
    {
      "cell_type": "code",
      "source": [
        "plt.figure(figsize=(12,5))\n",
        "sns.distplot(df[df['Class']==1]['Amount'],kde=False,bins=2500,color='darkred')\n",
        "plt.xlim(0,300)\n",
        "plt.title('Histogram of Fraudulent Transactions')"
      ],
      "metadata": {
        "colab": {
          "base_uri": "https://localhost:8080/",
          "height": 422
        },
        "id": "2IknJhWcPpgr",
        "outputId": "18f97416-5040-48b4-efcc-2294538e85ff"
      },
      "execution_count": 61,
      "outputs": [
        {
          "output_type": "stream",
          "name": "stderr",
          "text": [
            "/usr/local/lib/python3.7/dist-packages/seaborn/distributions.py:2619: FutureWarning: `distplot` is a deprecated function and will be removed in a future version. Please adapt your code to use either `displot` (a figure-level function with similar flexibility) or `histplot` (an axes-level function for histograms).\n",
            "  warnings.warn(msg, FutureWarning)\n"
          ]
        },
        {
          "output_type": "execute_result",
          "data": {
            "text/plain": [
              "Text(0.5, 1.0, 'Histogram of Fraudulent Transactions')"
            ]
          },
          "metadata": {},
          "execution_count": 61
        },
        {
          "output_type": "display_data",
          "data": {
            "image/png": "[encoded data removed]",
            "text/plain": [
              "<Figure size 864x360 with 1 Axes>"
            ]
          },
          "metadata": {}
        }
      ]
    },
    {
      "cell_type": "code",
      "source": [
        "plt.figure(figsize=(12,5))\n",
        "sns.distplot(df[df['Class']==0]['Amount'],kde=False,bins=2500,color='darkblue')\n",
        "plt.xlim(0,300)\n",
        "plt.title('Histogram of Legitimate Transactions')"
      ],
      "metadata": {
        "colab": {
          "base_uri": "https://localhost:8080/",
          "height": 422
        },
        "id": "B5QiUwSxPyT-",
        "outputId": "a245c93a-e363-470e-df69-7748f958b3b5"
      },
      "execution_count": 62,
      "outputs": [
        {
          "output_type": "stream",
          "name": "stderr",
          "text": [
            "/usr/local/lib/python3.7/dist-packages/seaborn/distributions.py:2619: FutureWarning: `distplot` is a deprecated function and will be removed in a future version. Please adapt your code to use either `displot` (a figure-level function with similar flexibility) or `histplot` (an axes-level function for histograms).\n",
            "  warnings.warn(msg, FutureWarning)\n"
          ]
        },
        {
          "output_type": "execute_result",
          "data": {
            "text/plain": [
              "Text(0.5, 1.0, 'Histogram of Legitimate Transactions')"
            ]
          },
          "metadata": {},
          "execution_count": 62
        },
        {
          "output_type": "display_data",
          "data": {
            "image/png": "[encoded data removed]",
            "text/plain": [
              "<Figure size 864x360 with 1 Axes>"
            ]
          },
          "metadata": {}
        }
      ]
    },
    {
      "cell_type": "code",
      "source": [
        "plt.figure(figsize=(10,6))\n",
        "sns.boxplot(x='Class',y='Amount',data=df,palette='Set1')\n",
        "plt.xlabel('Fraudulent')\n",
        "plt.ylim(0,280)"
      ],
      "metadata": {
        "colab": {
          "base_uri": "https://localhost:8080/",
          "height": 405
        },
        "id": "W5aMKSThP8jM",
        "outputId": "86344b09-6d03-4284-c9fd-5de81c8cb0b7"
      },
      "execution_count": 66,
      "outputs": [
        {
          "output_type": "execute_result",
          "data": {
            "text/plain": [
              "(0.0, 280.0)"
            ]
          },
          "metadata": {},
          "execution_count": 66
        },
        {
          "output_type": "display_data",
          "data": {
            "image/png": "[encoded data removed]",
            "text/plain": [
              "<Figure size 720x432 with 1 Axes>"
            ]
          },
          "metadata": {}
        }
      ]
    },
    {
      "cell_type": "code",
      "source": [
        "from sklearn.model_selection import train_test_split"
      ],
      "metadata": {
        "id": "qOwnmLwLQIcE"
      },
      "execution_count": 67,
      "outputs": []
    },
    {
      "cell_type": "code",
      "source": [
        "X = df.drop('Class',axis=1)\n",
        "y = df['Class']"
      ],
      "metadata": {
        "id": "vmwD_LCDQRQb"
      },
      "execution_count": 68,
      "outputs": []
    },
    {
      "cell_type": "code",
      "source": [
        "X_train, X_test, y_train, y_test = train_test_split(X, y, test_size=0.2)"
      ],
      "metadata": {
        "id": "Y_x5dUEeQTsM"
      },
      "execution_count": 69,
      "outputs": []
    },
    {
      "cell_type": "code",
      "source": [
        "#data needs to be scaled to give accurate parameter weighting for machine learning models\n",
        "from sklearn.preprocessing import MinMaxScaler\n",
        "scaler = MinMaxScaler()\n",
        "scaler.fit(X_train)\n",
        "X_train = scaler.transform(X_train)\n",
        "X_test = scaler.transform(X_test)"
      ],
      "metadata": {
        "id": "IhDfQBTiQW54"
      },
      "execution_count": 70,
      "outputs": []
    },
    {
      "cell_type": "markdown",
      "source": [
        "First try logistic regression classifier model"
      ],
      "metadata": {
        "id": "ujpYlfLjQgsA"
      }
    },
    {
      "cell_type": "code",
      "source": [
        "from sklearn.linear_model import LogisticRegression"
      ],
      "metadata": {
        "id": "x7wsCwwVQvyv"
      },
      "execution_count": 71,
      "outputs": []
    },
    {
      "cell_type": "code",
      "source": [
        "model = LogisticRegression()\n",
        "model.fit(X_train,y_train)\n",
        "predictions = model.predict(X_test)"
      ],
      "metadata": {
        "id": "ioCfqGFAQ0ma"
      },
      "execution_count": 72,
      "outputs": []
    },
    {
      "cell_type": "code",
      "source": [
        "from sklearn.metrics import classification_report, confusion_matrix\n",
        "print(classification_report(y_test,predictions))\n",
        "print(confusion_matrix(y_test,predictions))"
      ],
      "metadata": {
        "colab": {
          "base_uri": "https://localhost:8080/"
        },
        "id": "-ea60XkKQ2-b",
        "outputId": "ddf13655-1ae3-48c0-97df-8161b813c052"
      },
      "execution_count": 73,
      "outputs": [
        {
          "output_type": "stream",
          "name": "stdout",
          "text": [
            "              precision    recall  f1-score   support\n",
            "\n",
            "           0       1.00      1.00      1.00     56871\n",
            "           1       0.87      0.60      0.71        91\n",
            "\n",
            "    accuracy                           1.00     56962\n",
            "   macro avg       0.94      0.80      0.86     56962\n",
            "weighted avg       1.00      1.00      1.00     56962\n",
            "\n",
            "[[56863     8]\n",
            " [   36    55]]\n"
          ]
        }
      ]
    },
    {
      "cell_type": "markdown",
      "source": [
        "36 of 91 fraudulent transactions were wrongly classified. This is not a great result, let's try a different model."
      ],
      "metadata": {
        "id": "wcmhwcOMgwJc"
      }
    },
    {
      "cell_type": "markdown",
      "source": [
        "Try K Nearest Neighbours classifier with n = 1"
      ],
      "metadata": {
        "id": "kt0gYpZLRCxj"
      }
    },
    {
      "cell_type": "code",
      "source": [
        "from sklearn.neighbors import KNeighborsClassifier"
      ],
      "metadata": {
        "id": "N0uBGN5OQ6M0"
      },
      "execution_count": 74,
      "outputs": []
    },
    {
      "cell_type": "code",
      "source": [
        "knn = KNeighborsClassifier(n_neighbors=1)\n",
        "knn.fit(X_train,y_train)"
      ],
      "metadata": {
        "colab": {
          "base_uri": "https://localhost:8080/"
        },
        "id": "oH8byxR3RGDc",
        "outputId": "28f69657-06b1-4b1d-b852-20ae344cb5cd"
      },
      "execution_count": 75,
      "outputs": [
        {
          "output_type": "execute_result",
          "data": {
            "text/plain": [
              "KNeighborsClassifier(n_neighbors=1)"
            ]
          },
          "metadata": {},
          "execution_count": 75
        }
      ]
    },
    {
      "cell_type": "code",
      "source": [
        "pred = knn.predict(X_test)"
      ],
      "metadata": {
        "id": "3irpTBAiRL3y"
      },
      "execution_count": 76,
      "outputs": []
    },
    {
      "cell_type": "code",
      "source": [
        "print(classification_report(y_test,pred))\n",
        "print(confusion_matrix(y_test,pred))"
      ],
      "metadata": {
        "colab": {
          "base_uri": "https://localhost:8080/"
        },
        "id": "de-6NLTiRO0K",
        "outputId": "fb08d516-9018-43c0-998f-fa46dd762af0"
      },
      "execution_count": 77,
      "outputs": [
        {
          "output_type": "stream",
          "name": "stdout",
          "text": [
            "              precision    recall  f1-score   support\n",
            "\n",
            "           0       1.00      1.00      1.00     56871\n",
            "           1       0.88      0.81      0.85        91\n",
            "\n",
            "    accuracy                           1.00     56962\n",
            "   macro avg       0.94      0.91      0.92     56962\n",
            "weighted avg       1.00      1.00      1.00     56962\n",
            "\n",
            "[[56861    10]\n",
            " [   17    74]]\n"
          ]
        }
      ]
    },
    {
      "cell_type": "markdown",
      "source": [
        "The KNN model reduces the number of wrongly classified fraudulent transactions to 17/91, which is a much better result. Only 10 out of 56,871 legitimate transactions are wrongly categorised as fraudulent."
      ],
      "metadata": {
        "id": "Qavnhv3AhpIo"
      }
    },
    {
      "cell_type": "markdown",
      "source": [
        "Try a random forest classifier with 100 iterations"
      ],
      "metadata": {
        "id": "Obnt_cMnRc2x"
      }
    },
    {
      "cell_type": "code",
      "source": [
        "from sklearn.ensemble import RandomForestClassifier\n",
        "rfc = RandomForestClassifier(n_estimators=100)"
      ],
      "metadata": {
        "id": "Ps_FjoXpRfCS"
      },
      "execution_count": 78,
      "outputs": []
    },
    {
      "cell_type": "code",
      "source": [
        "rfc.fit(X_train,y_train)"
      ],
      "metadata": {
        "colab": {
          "base_uri": "https://localhost:8080/"
        },
        "id": "oo40FcFJR65u",
        "outputId": "f219410a-c668-4ff3-b3b8-b162c59de190"
      },
      "execution_count": 79,
      "outputs": [
        {
          "output_type": "execute_result",
          "data": {
            "text/plain": [
              "RandomForestClassifier()"
            ]
          },
          "metadata": {},
          "execution_count": 79
        }
      ]
    },
    {
      "cell_type": "code",
      "source": [
        "predictions = rfc.predict(X_test)"
      ],
      "metadata": {
        "id": "1O6LLOCyR8ex"
      },
      "execution_count": 80,
      "outputs": []
    },
    {
      "cell_type": "code",
      "source": [
        "print('Classification Report \\n')\n",
        "print(classification_report(y_test,predictions))\n",
        "print('\\n Confusion Matrix \\n')\n",
        "print(confusion_matrix(y_test,predictions))"
      ],
      "metadata": {
        "colab": {
          "base_uri": "https://localhost:8080/"
        },
        "id": "u4VIABquSAa9",
        "outputId": "9570dd22-28c1-4e8b-d1b5-3a59b259e151"
      },
      "execution_count": 81,
      "outputs": [
        {
          "output_type": "stream",
          "name": "stdout",
          "text": [
            "Classification Report \n",
            "\n",
            "              precision    recall  f1-score   support\n",
            "\n",
            "           0       1.00      1.00      1.00     56871\n",
            "           1       0.92      0.79      0.85        91\n",
            "\n",
            "    accuracy                           1.00     56962\n",
            "   macro avg       0.96      0.90      0.93     56962\n",
            "weighted avg       1.00      1.00      1.00     56962\n",
            "\n",
            "\n",
            " Confusion Matrix \n",
            "\n",
            "[[56865     6]\n",
            " [   19    72]]\n"
          ]
        }
      ]
    },
    {
      "cell_type": "markdown",
      "source": [
        "Random forest classifier reduces the number of false positives to 6 but performs slightly worse than the KNN algorishm on the fraudulent transactions, falsly labelling 19 out 91 transactions as legitimate."
      ],
      "metadata": {
        "id": "3EdMz1GOkBvx"
      }
    },
    {
      "cell_type": "markdown",
      "source": [
        "Import TensorFlow and implement an artificial neural network."
      ],
      "metadata": {
        "id": "_3b7JDDNSDm3"
      }
    },
    {
      "cell_type": "code",
      "source": [
        "import tensorflow as tf\n",
        "from tensorflow.keras.models import Sequential\n",
        "from tensorflow.keras.layers import Dense,Dropout"
      ],
      "metadata": {
        "id": "S7wPs_BqSBlO"
      },
      "execution_count": 82,
      "outputs": []
    },
    {
      "cell_type": "code",
      "source": [
        "X_train.shape"
      ],
      "metadata": {
        "colab": {
          "base_uri": "https://localhost:8080/"
        },
        "id": "PMUBG-isSaGT",
        "outputId": "b7bc4378-e369-4ca3-c185-a0a6441db122"
      },
      "execution_count": 83,
      "outputs": [
        {
          "output_type": "execute_result",
          "data": {
            "text/plain": [
              "(227845, 30)"
            ]
          },
          "metadata": {},
          "execution_count": 83
        }
      ]
    },
    {
      "cell_type": "markdown",
      "source": [
        "X has 30 inputs, so we we will use 30 units in the first layer of the network."
      ],
      "metadata": {
        "id": "2C0KpeHYTNst"
      }
    },
    {
      "cell_type": "code",
      "source": [
        "model = Sequential()\n",
        "#define number of model layers and number of neurons in each layer\n",
        "model.add(Dense(units=30,activation='relu'))\n",
        "model.add(Dropout(0.1))\n",
        "model.add(Dense(units=20,activation='relu'))\n",
        "model.add(Dropout(0.1))\n",
        "model.add(Dense(units=20,activation='relu'))\n",
        "model.add(Dropout(0.1))\n",
        "model.add(Dense(units=10,activation='relu'))\n",
        "model.add(Dropout(0.1))\n",
        "model.add(Dense(units=5,activation='relu'))\n",
        "model.add(Dropout(0.1))\n",
        "# This is a binary classification problem, so we require a sigmoid activation function\n",
        "model.add(Dense(units=1,activation='sigmoid'))\n",
        "# compile the model\n",
        "model.compile(loss='binary_crossentropy', optimizer='adam')"
      ],
      "metadata": {
        "id": "q_ATkkY0SajD"
      },
      "execution_count": 84,
      "outputs": []
    },
    {
      "cell_type": "code",
      "source": [
        "model.fit(x=X_train,y=y_train,epochs=50,batch_size=256,validation_data=(X_test, y_test))"
      ],
      "metadata": {
        "colab": {
          "base_uri": "https://localhost:8080/"
        },
        "id": "lu_Qn1JESbJD",
        "outputId": "96ea87eb-0fdb-4a3f-d833-66f207916eaa"
      },
      "execution_count": 85,
      "outputs": [
        {
          "output_type": "stream",
          "name": "stdout",
          "text": [
            "Epoch 1/50\n",
            "891/891 [==============================] - 4s 3ms/step - loss: 0.0423 - val_loss: 0.0051\n",
            "Epoch 2/50\n",
            "891/891 [==============================] - 3s 3ms/step - loss: 0.0074 - val_loss: 0.0036\n",
            "Epoch 3/50\n",
            "891/891 [==============================] - 3s 3ms/step - loss: 0.0060 - val_loss: 0.0035\n",
            "Epoch 4/50\n",
            "891/891 [==============================] - 3s 3ms/step - loss: 0.0056 - val_loss: 0.0045\n",
            "Epoch 5/50\n",
            "891/891 [==============================] - 3s 3ms/step - loss: 0.0054 - val_loss: 0.0033\n",
            "Epoch 6/50\n",
            "891/891 [==============================] - 3s 3ms/step - loss: 0.0055 - val_loss: 0.0039\n",
            "Epoch 7/50\n",
            "891/891 [==============================] - 3s 3ms/step - loss: 0.0054 - val_loss: 0.0037\n",
            "Epoch 8/50\n",
            "891/891 [==============================] - 3s 3ms/step - loss: 0.0051 - val_loss: 0.0046\n",
            "Epoch 9/50\n",
            "891/891 [==============================] - 3s 3ms/step - loss: 0.0051 - val_loss: 0.0038\n",
            "Epoch 10/50\n",
            "891/891 [==============================] - 3s 3ms/step - loss: 0.0052 - val_loss: 0.0037\n",
            "Epoch 11/50\n",
            "891/891 [==============================] - 3s 3ms/step - loss: 0.0049 - val_loss: 0.0034\n",
            "Epoch 12/50\n",
            "891/891 [==============================] - 3s 3ms/step - loss: 0.0052 - val_loss: 0.0033\n",
            "Epoch 13/50\n",
            "891/891 [==============================] - 3s 3ms/step - loss: 0.0049 - val_loss: 0.0031\n",
            "Epoch 14/50\n",
            "891/891 [==============================] - 3s 3ms/step - loss: 0.0049 - val_loss: 0.0033\n",
            "Epoch 15/50\n",
            "891/891 [==============================] - 3s 3ms/step - loss: 0.0052 - val_loss: 0.0036\n",
            "Epoch 16/50\n",
            "891/891 [==============================] - 3s 3ms/step - loss: 0.0051 - val_loss: 0.0032\n",
            "Epoch 17/50\n",
            "891/891 [==============================] - 3s 3ms/step - loss: 0.0049 - val_loss: 0.0036\n",
            "Epoch 18/50\n",
            "891/891 [==============================] - 3s 3ms/step - loss: 0.0048 - val_loss: 0.0030\n",
            "Epoch 19/50\n",
            "891/891 [==============================] - 3s 3ms/step - loss: 0.0049 - val_loss: 0.0035\n",
            "Epoch 20/50\n",
            "891/891 [==============================] - 3s 3ms/step - loss: 0.0046 - val_loss: 0.0042\n",
            "Epoch 21/50\n",
            "891/891 [==============================] - 3s 3ms/step - loss: 0.0048 - val_loss: 0.0034\n",
            "Epoch 22/50\n",
            "891/891 [==============================] - 3s 3ms/step - loss: 0.0049 - val_loss: 0.0035\n",
            "Epoch 23/50\n",
            "891/891 [==============================] - 3s 3ms/step - loss: 0.0048 - val_loss: 0.0033\n",
            "Epoch 24/50\n",
            "891/891 [==============================] - 3s 3ms/step - loss: 0.0048 - val_loss: 0.0034\n",
            "Epoch 25/50\n",
            "891/891 [==============================] - 3s 3ms/step - loss: 0.0047 - val_loss: 0.0031\n",
            "Epoch 26/50\n",
            "891/891 [==============================] - 3s 4ms/step - loss: 0.0046 - val_loss: 0.0033\n",
            "Epoch 27/50\n",
            "891/891 [==============================] - 3s 4ms/step - loss: 0.0047 - val_loss: 0.0035\n",
            "Epoch 28/50\n",
            "891/891 [==============================] - 3s 3ms/step - loss: 0.0048 - val_loss: 0.0032\n",
            "Epoch 29/50\n",
            "891/891 [==============================] - 3s 3ms/step - loss: 0.0048 - val_loss: 0.0037\n",
            "Epoch 30/50\n",
            "891/891 [==============================] - 3s 3ms/step - loss: 0.0045 - val_loss: 0.0030\n",
            "Epoch 31/50\n",
            "891/891 [==============================] - 3s 3ms/step - loss: 0.0048 - val_loss: 0.0032\n",
            "Epoch 32/50\n",
            "891/891 [==============================] - 3s 3ms/step - loss: 0.0048 - val_loss: 0.0032\n",
            "Epoch 33/50\n",
            "891/891 [==============================] - 3s 3ms/step - loss: 0.0047 - val_loss: 0.0029\n",
            "Epoch 34/50\n",
            "891/891 [==============================] - 3s 3ms/step - loss: 0.0048 - val_loss: 0.0030\n",
            "Epoch 35/50\n",
            "891/891 [==============================] - 3s 3ms/step - loss: 0.0047 - val_loss: 0.0029\n",
            "Epoch 36/50\n",
            "891/891 [==============================] - 3s 3ms/step - loss: 0.0045 - val_loss: 0.0031\n",
            "Epoch 37/50\n",
            "891/891 [==============================] - 3s 3ms/step - loss: 0.0046 - val_loss: 0.0029\n",
            "Epoch 38/50\n",
            "891/891 [==============================] - 3s 3ms/step - loss: 0.0047 - val_loss: 0.0035\n",
            "Epoch 39/50\n",
            "891/891 [==============================] - 3s 3ms/step - loss: 0.0047 - val_loss: 0.0035\n",
            "Epoch 40/50\n",
            "891/891 [==============================] - 3s 3ms/step - loss: 0.0045 - val_loss: 0.0030\n",
            "Epoch 41/50\n",
            "891/891 [==============================] - 3s 3ms/step - loss: 0.0045 - val_loss: 0.0032\n",
            "Epoch 42/50\n",
            "891/891 [==============================] - 3s 3ms/step - loss: 0.0045 - val_loss: 0.0030\n",
            "Epoch 43/50\n",
            "891/891 [==============================] - 3s 3ms/step - loss: 0.0046 - val_loss: 0.0029\n",
            "Epoch 44/50\n",
            "891/891 [==============================] - 3s 3ms/step - loss: 0.0048 - val_loss: 0.0030\n",
            "Epoch 45/50\n",
            "891/891 [==============================] - 3s 3ms/step - loss: 0.0048 - val_loss: 0.0029\n",
            "Epoch 46/50\n",
            "891/891 [==============================] - 3s 3ms/step - loss: 0.0047 - val_loss: 0.0029\n",
            "Epoch 47/50\n",
            "891/891 [==============================] - 3s 3ms/step - loss: 0.0045 - val_loss: 0.0030\n",
            "Epoch 48/50\n",
            "891/891 [==============================] - 3s 3ms/step - loss: 0.0047 - val_loss: 0.0030\n",
            "Epoch 49/50\n",
            "891/891 [==============================] - 3s 3ms/step - loss: 0.0046 - val_loss: 0.0029\n",
            "Epoch 50/50\n",
            "891/891 [==============================] - 3s 3ms/step - loss: 0.0047 - val_loss: 0.0031\n"
          ]
        },
        {
          "output_type": "execute_result",
          "data": {
            "text/plain": [
              "<keras.callbacks.History at 0x7fad020a80d0>"
            ]
          },
          "metadata": {},
          "execution_count": 85
        }
      ]
    },
    {
      "cell_type": "code",
      "source": [
        "model_loss = pd.DataFrame(model.history.history)\n",
        "model_loss.head()"
      ],
      "metadata": {
        "colab": {
          "base_uri": "https://localhost:8080/",
          "height": 206
        },
        "id": "E4wr-EbUSxfm",
        "outputId": "3afa515f-0efa-448b-f4d0-f4839a52ff26"
      },
      "execution_count": 86,
      "outputs": [
        {
          "output_type": "execute_result",
          "data": {
            "text/html": [
              "\n",
              "  <div id=\"df-8acb4f7d-309a-4d4c-9365-a907d8947fef\">\n",
              "    <div class=\"colab-df-container\">\n",
              "      <div>\n",
              "<style scoped>\n",
              "    .dataframe tbody tr th:only-of-type {\n",
              "        vertical-align: middle;\n",
              "    }\n",
              "\n",
              "    .dataframe tbody tr th {\n",
              "        vertical-align: top;\n",
              "    }\n",
              "\n",
              "    .dataframe thead th {\n",
              "        text-align: right;\n",
              "    }\n",
              "</style>\n",
              "<table border=\"1\" class=\"dataframe\">\n",
              "  <thead>\n",
              "    <tr style=\"text-align: right;\">\n",
              "      <th></th>\n",
              "      <th>loss</th>\n",
              "      <th>val_loss</th>\n",
              "    </tr>\n",
              "  </thead>\n",
              "  <tbody>\n",
              "    <tr>\n",
              "      <th>0</th>\n",
              "      <td>0.042290</td>\n",
              "      <td>0.005144</td>\n",
              "    </tr>\n",
              "    <tr>\n",
              "      <th>1</th>\n",
              "      <td>0.007351</td>\n",
              "      <td>0.003570</td>\n",
              "    </tr>\n",
              "    <tr>\n",
              "      <th>2</th>\n",
              "      <td>0.005984</td>\n",
              "      <td>0.003489</td>\n",
              "    </tr>\n",
              "    <tr>\n",
              "      <th>3</th>\n",
              "      <td>0.005623</td>\n",
              "      <td>0.004497</td>\n",
              "    </tr>\n",
              "    <tr>\n",
              "      <th>4</th>\n",
              "      <td>0.005439</td>\n",
              "      <td>0.003320</td>\n",
              "    </tr>\n",
              "  </tbody>\n",
              "</table>\n",
              "</div>\n",
              "      <button class=\"colab-df-convert\" onclick=\"convertToInteractive('df-8acb4f7d-309a-4d4c-9365-a907d8947fef')\"\n",
              "              title=\"Convert this dataframe to an interactive table.\"\n",
              "              style=\"display:none;\">\n",
              "        \n",
              "  <svg xmlns=\"http://www.w3.org/2000/svg\" height=\"24px\"viewBox=\"0 0 24 24\"\n",
              "       width=\"24px\">\n",
              "    <path d=\"M0 0h24v24H0V0z\" fill=\"none\"/>\n",
              "    <path d=\"M18.56 5.44l.94 2.06.94-2.06 2.06-.94-2.06-.94-.94-2.06-.94 2.06-2.06.94zm-11 1L8.5 8.5l.94-2.06 2.06-.94-2.06-.94L8.5 2.5l-.94 2.06-2.06.94zm10 10l.94 2.06.94-2.06 2.06-.94-2.06-.94-.94-2.06-.94 2.06-2.06.94z\"/><path d=\"M17.41 7.96l-1.37-1.37c-.4-.4-.92-.59-1.43-.59-.52 0-1.04.2-1.43.59L10.3 9.45l-7.72 7.72c-.78.78-.78 2.05 0 2.83L4 21.41c.39.39.9.59 1.41.59.51 0 1.02-.2 1.41-.59l7.78-7.78 2.81-2.81c.8-.78.8-2.07 0-2.86zM5.41 20L4 18.59l7.72-7.72 1.47 1.35L5.41 20z\"/>\n",
              "  </svg>\n",
              "      </button>\n",
              "      \n",
              "  <style>\n",
              "    .colab-df-container {\n",
              "      display:flex;\n",
              "      flex-wrap:wrap;\n",
              "      gap: 12px;\n",
              "    }\n",
              "\n",
              "    .colab-df-convert {\n",
              "      background-color: #E8F0FE;\n",
              "      border: none;\n",
              "      border-radius: 50%;\n",
              "      cursor: pointer;\n",
              "      display: none;\n",
              "      fill: #1967D2;\n",
              "      height: 32px;\n",
              "      padding: 0 0 0 0;\n",
              "      width: 32px;\n",
              "    }\n",
              "\n",
              "    .colab-df-convert:hover {\n",
              "      background-color: #E2EBFA;\n",
              "      box-shadow: 0px 1px 2px rgba(60, 64, 67, 0.3), 0px 1px 3px 1px rgba(60, 64, 67, 0.15);\n",
              "      fill: #174EA6;\n",
              "    }\n",
              "\n",
              "    [theme=dark] .colab-df-convert {\n",
              "      background-color: #3B4455;\n",
              "      fill: #D2E3FC;\n",
              "    }\n",
              "\n",
              "    [theme=dark] .colab-df-convert:hover {\n",
              "      background-color: #434B5C;\n",
              "      box-shadow: 0px 1px 3px 1px rgba(0, 0, 0, 0.15);\n",
              "      filter: drop-shadow(0px 1px 2px rgba(0, 0, 0, 0.3));\n",
              "      fill: #FFFFFF;\n",
              "    }\n",
              "  </style>\n",
              "\n",
              "      <script>\n",
              "        const buttonEl =\n",
              "          document.querySelector('#df-8acb4f7d-309a-4d4c-9365-a907d8947fef button.colab-df-convert');\n",
              "        buttonEl.style.display =\n",
              "          google.colab.kernel.accessAllowed ? 'block' : 'none';\n",
              "\n",
              "        async function convertToInteractive(key) {\n",
              "          const element = document.querySelector('#df-8acb4f7d-309a-4d4c-9365-a907d8947fef');\n",
              "          const dataTable =\n",
              "            await google.colab.kernel.invokeFunction('convertToInteractive',\n",
              "                                                     [key], {});\n",
              "          if (!dataTable) return;\n",
              "\n",
              "          const docLinkHtml = 'Like what you see? Visit the ' +\n",
              "            '<a target=\"_blank\" href=https://colab.research.google.com/notebooks/data_table.ipynb>data table notebook</a>'\n",
              "            + ' to learn more about interactive tables.';\n",
              "          element.innerHTML = '';\n",
              "          dataTable['output_type'] = 'display_data';\n",
              "          await google.colab.output.renderOutput(dataTable, element);\n",
              "          const docLink = document.createElement('div');\n",
              "          docLink.innerHTML = docLinkHtml;\n",
              "          element.appendChild(docLink);\n",
              "        }\n",
              "      </script>\n",
              "    </div>\n",
              "  </div>\n",
              "  "
            ],
            "text/plain": [
              "       loss  val_loss\n",
              "0  0.042290  0.005144\n",
              "1  0.007351  0.003570\n",
              "2  0.005984  0.003489\n",
              "3  0.005623  0.004497\n",
              "4  0.005439  0.003320"
            ]
          },
          "metadata": {},
          "execution_count": 86
        }
      ]
    },
    {
      "cell_type": "code",
      "source": [
        "model_loss.plot(figsize=(12,5))"
      ],
      "metadata": {
        "colab": {
          "base_uri": "https://localhost:8080/",
          "height": 337
        },
        "id": "8T6o5JDNSxzO",
        "outputId": "655616d2-f85a-4a30-b56d-2fc2f51581a6"
      },
      "execution_count": 87,
      "outputs": [
        {
          "output_type": "execute_result",
          "data": {
            "text/plain": [
              "<matplotlib.axes._subplots.AxesSubplot at 0x7facfd7ef4d0>"
            ]
          },
          "metadata": {},
          "execution_count": 87
        },
        {
          "output_type": "display_data",
          "data": {
            "image/png": "[encoded data removed]",
            "text/plain": [
              "<Figure size 864x360 with 1 Axes>"
            ]
          },
          "metadata": {}
        }
      ]
    },
    {
      "cell_type": "code",
      "source": [
        "from sklearn.metrics import classification_report,confusion_matrix\n",
        "#predictions = model.predict_classes(X_test)\n",
        "predictions = (model.predict(X_test) > 0.5).astype(\"int32\")"
      ],
      "metadata": {
        "id": "5MDhXy81SyCP"
      },
      "execution_count": 88,
      "outputs": []
    },
    {
      "cell_type": "code",
      "source": [
        "print(\"Classification Report \\n\\n\", classification_report(y_test,predictions))\n",
        "print(\"Confusion Matrix \\n\\n\", confusion_matrix(y_test,predictions))"
      ],
      "metadata": {
        "colab": {
          "base_uri": "https://localhost:8080/"
        },
        "id": "Qn3HV_zqSyQu",
        "outputId": "921f0acb-4ab0-4b75-b75c-9c1db3d84eab"
      },
      "execution_count": 90,
      "outputs": [
        {
          "output_type": "stream",
          "name": "stdout",
          "text": [
            "Classification Report \n",
            "\n",
            "               precision    recall  f1-score   support\n",
            "\n",
            "           0       1.00      1.00      1.00     56871\n",
            "           1       0.85      0.78      0.81        91\n",
            "\n",
            "    accuracy                           1.00     56962\n",
            "   macro avg       0.92      0.89      0.91     56962\n",
            "weighted avg       1.00      1.00      1.00     56962\n",
            "\n",
            "Confusion Matrix \n",
            "\n",
            " [[56858    13]\n",
            " [   20    71]]\n"
          ]
        }
      ]
    },
    {
      "cell_type": "markdown",
      "source": [
        ""
      ],
      "metadata": {
        "id": "XAS1rqaZnVVk"
      }
    },
    {
      "cell_type": "code",
      "source": [
        "import random\n",
        "random.seed(3)\n",
        "random_ind = random.randint(0,len(df))\n",
        "\n",
        "test_transaction = df.drop('Class',axis=1).iloc[random_ind]\n",
        "test_transaction"
      ],
      "metadata": {
        "colab": {
          "base_uri": "https://localhost:8080/"
        },
        "id": "K7L8sR8FS5AT",
        "outputId": "a135a73b-2851-44e7-816f-89ad16a05459"
      },
      "execution_count": 92,
      "outputs": [
        {
          "output_type": "execute_result",
          "data": {
            "text/plain": [
              "Time      77415.000000\n",
              "V1           -0.731833\n",
              "V2            0.631244\n",
              "V3            1.352622\n",
              "V4           -0.250513\n",
              "V5            0.829905\n",
              "V6            1.425032\n",
              "V7            0.359005\n",
              "V8            0.682196\n",
              "V9           -0.721615\n",
              "V10          -0.777572\n",
              "V11           2.199711\n",
              "V12           0.303323\n",
              "V13          -1.226696\n",
              "V14           0.191112\n",
              "V15           1.398352\n",
              "V16          -0.659118\n",
              "V17           1.042950\n",
              "V18          -1.396318\n",
              "V19          -1.257195\n",
              "V20          -0.130662\n",
              "V21          -0.013267\n",
              "V22          -0.095202\n",
              "V23           0.154927\n",
              "V24          -1.098428\n",
              "V25          -0.691598\n",
              "V26           0.160788\n",
              "V27           0.122187\n",
              "V28           0.106039\n",
              "Amount       34.990000\n",
              "Name: 124761, dtype: float64"
            ]
          },
          "metadata": {},
          "execution_count": 92
        }
      ]
    },
    {
      "cell_type": "code",
      "source": [
        "model.predict(test_transaction.values.reshape(1,30))"
      ],
      "metadata": {
        "colab": {
          "base_uri": "https://localhost:8080/"
        },
        "id": "6fgz2UnZS8KE",
        "outputId": "40042901-9514-407a-9bef-bdd12d987fb6"
      },
      "execution_count": 94,
      "outputs": [
        {
          "output_type": "execute_result",
          "data": {
            "text/plain": [
              "array([[0.]], dtype=float32)"
            ]
          },
          "metadata": {},
          "execution_count": 94
        }
      ]
    },
    {
      "cell_type": "code",
      "source": [
        "df['Class'].iloc[random_ind]"
      ],
      "metadata": {
        "colab": {
          "base_uri": "https://localhost:8080/"
        },
        "id": "kpaGS6ZpS_TW",
        "outputId": "4fa9422b-e40e-4828-cf08-88ac07a2a7a6"
      },
      "execution_count": 95,
      "outputs": [
        {
          "output_type": "execute_result",
          "data": {
            "text/plain": [
              "0"
            ]
          },
          "metadata": {},
          "execution_count": 95
        }
      ]
    },
    {
      "cell_type": "markdown",
      "source": [
        "The neural network is less accurate in its predictions than the KNN and random forest models. This is likely because neural networks tend to perform better on tasks with very large data sets and many input parameters, such as image analysis or voice recognition. The model with the best overall prediction is the KNN classifier, which only classified 17 out of 91 fraudulent transactions incorrectly and only classified 10 legitimate transactions out of 56,871 as wrongly fraudulent.\n",
        "\n",
        "Further work on this project could involve developing the KNN classifier for a larger number of nearest neighbour, though this is quite computationally expensive given the very large number of examples in this data set. Alternatively the neural network could be developed in order to optimise performance, to see if this approach could challenge the KNN and random forest models in predictive accuracy."
      ],
      "metadata": {
        "id": "_XeogGdEpW-A"
      }
    }
  ]
}
