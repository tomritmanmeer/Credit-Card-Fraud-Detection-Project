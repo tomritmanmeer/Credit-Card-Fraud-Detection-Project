{
  "nbformat": 4,
  "nbformat_minor": 0,
  "metadata": {
    "colab": {
      "name": "Fraud_Detection.ipynb",
      "provenance": [],
      "collapsed_sections": []
    },
    "kernelspec": {
      "name": "python3",
      "display_name": "Python 3"
    },
    "language_info": {
      "name": "python"
    },
    "accelerator": "GPU"
  },
  "cells": [
    {
      "cell_type": "markdown",
      "source": [
        "# Fraud Detection Dataset Project\n",
        "## Tom Ritman-Meer using Google Colaboratory notebook\n",
        "\n",
        "In this notebook I have deployed machine learning models to predict the probability of a credit card transaction being fraudulent based a number of PCA parameters.\n",
        "\n",
        "The project consists of the following steps:\n",
        "\n",
        "* Retrieving the dataset from Kaggle.com\n",
        "* Exploratory Data Analysis\n",
        "* Feature Engineering of the data into a suitable form for models\n",
        "* Building and comparing machine learning models"
      ],
      "metadata": {
        "id": "HVyS6INNW-W5"
      }
    },
    {
      "cell_type": "code",
      "source": [
        "# Steps to download creditcard.csv from kaggle\n",
        "!mkdir ~/.kaggle\n",
        "!cp /content/drive/MyDrive/kaggle.json ~/.kaggle/kaggle.json\n",
        "!chmod 600 ~/.kaggle/kaggle.json\n",
        "!kaggle datasets download -d mlg-ulb/creditcardfraud\n",
        "!unzip creditcardfraud.zip"
      ],
      "metadata": {
        "colab": {
          "base_uri": "https://localhost:8080/"
        },
        "id": "6KU6zro6ZgIA",
        "outputId": "3f437a85-e4c1-4796-b48e-0e80fb6aa7a3"
      },
      "execution_count": 1,
      "outputs": [
        {
          "output_type": "stream",
          "name": "stdout",
          "text": [
            "mkdir: cannot create directory ‘/root/.kaggle’: File exists\n",
            "Downloading creditcardfraud.zip to /content\n",
            " 70% 46.0M/66.0M [00:00<00:00, 172MB/s]\n",
            "100% 66.0M/66.0M [00:00<00:00, 220MB/s]\n",
            "Archive:  creditcardfraud.zip\n",
            "  inflating: creditcard.csv          \n"
          ]
        }
      ]
    },
    {
      "cell_type": "code",
      "execution_count": 2,
      "metadata": {
        "id": "JCyVJ4EUJy5Q"
      },
      "outputs": [],
      "source": [
        "import numpy as np\n",
        "import pandas as pd\n",
        "import matplotlib.pyplot as plt\n",
        "import seaborn as sns\n",
        "%matplotlib inline"
      ]
    },
    {
      "cell_type": "code",
      "source": [
        "df = pd.read_csv('creditcard.csv')\n",
        "df.head()"
      ],
      "metadata": {
        "colab": {
          "base_uri": "https://localhost:8080/",
          "height": 270
        },
        "id": "zkaVuX-kPHf2",
        "outputId": "a0444f0e-25da-45b6-c931-26691cc1ff52"
      },
      "execution_count": 3,
      "outputs": [
        {
          "output_type": "execute_result",
          "data": {
            "text/html": [
              "\n",
              "  <div id=\"df-f85d302e-8782-49f9-88d2-2a78277ebe20\">\n",
              "    <div class=\"colab-df-container\">\n",
              "      <div>\n",
              "<style scoped>\n",
              "    .dataframe tbody tr th:only-of-type {\n",
              "        vertical-align: middle;\n",
              "    }\n",
              "\n",
              "    .dataframe tbody tr th {\n",
              "        vertical-align: top;\n",
              "    }\n",
              "\n",
              "    .dataframe thead th {\n",
              "        text-align: right;\n",
              "    }\n",
              "</style>\n",
              "<table border=\"1\" class=\"dataframe\">\n",
              "  <thead>\n",
              "    <tr style=\"text-align: right;\">\n",
              "      <th></th>\n",
              "      <th>Time</th>\n",
              "      <th>V1</th>\n",
              "      <th>V2</th>\n",
              "      <th>V3</th>\n",
              "      <th>V4</th>\n",
              "      <th>V5</th>\n",
              "      <th>V6</th>\n",
              "      <th>V7</th>\n",
              "      <th>V8</th>\n",
              "      <th>V9</th>\n",
              "      <th>V10</th>\n",
              "      <th>V11</th>\n",
              "      <th>V12</th>\n",
              "      <th>V13</th>\n",
              "      <th>V14</th>\n",
              "      <th>V15</th>\n",
              "      <th>V16</th>\n",
              "      <th>V17</th>\n",
              "      <th>V18</th>\n",
              "      <th>V19</th>\n",
              "      <th>V20</th>\n",
              "      <th>V21</th>\n",
              "      <th>V22</th>\n",
              "      <th>V23</th>\n",
              "      <th>V24</th>\n",
              "      <th>V25</th>\n",
              "      <th>V26</th>\n",
              "      <th>V27</th>\n",
              "      <th>V28</th>\n",
              "      <th>Amount</th>\n",
              "      <th>Class</th>\n",
              "    </tr>\n",
              "  </thead>\n",
              "  <tbody>\n",
              "    <tr>\n",
              "      <th>0</th>\n",
              "      <td>0.0</td>\n",
              "      <td>-1.359807</td>\n",
              "      <td>-0.072781</td>\n",
              "      <td>2.536347</td>\n",
              "      <td>1.378155</td>\n",
              "      <td>-0.338321</td>\n",
              "      <td>0.462388</td>\n",
              "      <td>0.239599</td>\n",
              "      <td>0.098698</td>\n",
              "      <td>0.363787</td>\n",
              "      <td>0.090794</td>\n",
              "      <td>-0.551600</td>\n",
              "      <td>-0.617801</td>\n",
              "      <td>-0.991390</td>\n",
              "      <td>-0.311169</td>\n",
              "      <td>1.468177</td>\n",
              "      <td>-0.470401</td>\n",
              "      <td>0.207971</td>\n",
              "      <td>0.025791</td>\n",
              "      <td>0.403993</td>\n",
              "      <td>0.251412</td>\n",
              "      <td>-0.018307</td>\n",
              "      <td>0.277838</td>\n",
              "      <td>-0.110474</td>\n",
              "      <td>0.066928</td>\n",
              "      <td>0.128539</td>\n",
              "      <td>-0.189115</td>\n",
              "      <td>0.133558</td>\n",
              "      <td>-0.021053</td>\n",
              "      <td>149.62</td>\n",
              "      <td>0</td>\n",
              "    </tr>\n",
              "    <tr>\n",
              "      <th>1</th>\n",
              "      <td>0.0</td>\n",
              "      <td>1.191857</td>\n",
              "      <td>0.266151</td>\n",
              "      <td>0.166480</td>\n",
              "      <td>0.448154</td>\n",
              "      <td>0.060018</td>\n",
              "      <td>-0.082361</td>\n",
              "      <td>-0.078803</td>\n",
              "      <td>0.085102</td>\n",
              "      <td>-0.255425</td>\n",
              "      <td>-0.166974</td>\n",
              "      <td>1.612727</td>\n",
              "      <td>1.065235</td>\n",
              "      <td>0.489095</td>\n",
              "      <td>-0.143772</td>\n",
              "      <td>0.635558</td>\n",
              "      <td>0.463917</td>\n",
              "      <td>-0.114805</td>\n",
              "      <td>-0.183361</td>\n",
              "      <td>-0.145783</td>\n",
              "      <td>-0.069083</td>\n",
              "      <td>-0.225775</td>\n",
              "      <td>-0.638672</td>\n",
              "      <td>0.101288</td>\n",
              "      <td>-0.339846</td>\n",
              "      <td>0.167170</td>\n",
              "      <td>0.125895</td>\n",
              "      <td>-0.008983</td>\n",
              "      <td>0.014724</td>\n",
              "      <td>2.69</td>\n",
              "      <td>0</td>\n",
              "    </tr>\n",
              "    <tr>\n",
              "      <th>2</th>\n",
              "      <td>1.0</td>\n",
              "      <td>-1.358354</td>\n",
              "      <td>-1.340163</td>\n",
              "      <td>1.773209</td>\n",
              "      <td>0.379780</td>\n",
              "      <td>-0.503198</td>\n",
              "      <td>1.800499</td>\n",
              "      <td>0.791461</td>\n",
              "      <td>0.247676</td>\n",
              "      <td>-1.514654</td>\n",
              "      <td>0.207643</td>\n",
              "      <td>0.624501</td>\n",
              "      <td>0.066084</td>\n",
              "      <td>0.717293</td>\n",
              "      <td>-0.165946</td>\n",
              "      <td>2.345865</td>\n",
              "      <td>-2.890083</td>\n",
              "      <td>1.109969</td>\n",
              "      <td>-0.121359</td>\n",
              "      <td>-2.261857</td>\n",
              "      <td>0.524980</td>\n",
              "      <td>0.247998</td>\n",
              "      <td>0.771679</td>\n",
              "      <td>0.909412</td>\n",
              "      <td>-0.689281</td>\n",
              "      <td>-0.327642</td>\n",
              "      <td>-0.139097</td>\n",
              "      <td>-0.055353</td>\n",
              "      <td>-0.059752</td>\n",
              "      <td>378.66</td>\n",
              "      <td>0</td>\n",
              "    </tr>\n",
              "    <tr>\n",
              "      <th>3</th>\n",
              "      <td>1.0</td>\n",
              "      <td>-0.966272</td>\n",
              "      <td>-0.185226</td>\n",
              "      <td>1.792993</td>\n",
              "      <td>-0.863291</td>\n",
              "      <td>-0.010309</td>\n",
              "      <td>1.247203</td>\n",
              "      <td>0.237609</td>\n",
              "      <td>0.377436</td>\n",
              "      <td>-1.387024</td>\n",
              "      <td>-0.054952</td>\n",
              "      <td>-0.226487</td>\n",
              "      <td>0.178228</td>\n",
              "      <td>0.507757</td>\n",
              "      <td>-0.287924</td>\n",
              "      <td>-0.631418</td>\n",
              "      <td>-1.059647</td>\n",
              "      <td>-0.684093</td>\n",
              "      <td>1.965775</td>\n",
              "      <td>-1.232622</td>\n",
              "      <td>-0.208038</td>\n",
              "      <td>-0.108300</td>\n",
              "      <td>0.005274</td>\n",
              "      <td>-0.190321</td>\n",
              "      <td>-1.175575</td>\n",
              "      <td>0.647376</td>\n",
              "      <td>-0.221929</td>\n",
              "      <td>0.062723</td>\n",
              "      <td>0.061458</td>\n",
              "      <td>123.50</td>\n",
              "      <td>0</td>\n",
              "    </tr>\n",
              "    <tr>\n",
              "      <th>4</th>\n",
              "      <td>2.0</td>\n",
              "      <td>-1.158233</td>\n",
              "      <td>0.877737</td>\n",
              "      <td>1.548718</td>\n",
              "      <td>0.403034</td>\n",
              "      <td>-0.407193</td>\n",
              "      <td>0.095921</td>\n",
              "      <td>0.592941</td>\n",
              "      <td>-0.270533</td>\n",
              "      <td>0.817739</td>\n",
              "      <td>0.753074</td>\n",
              "      <td>-0.822843</td>\n",
              "      <td>0.538196</td>\n",
              "      <td>1.345852</td>\n",
              "      <td>-1.119670</td>\n",
              "      <td>0.175121</td>\n",
              "      <td>-0.451449</td>\n",
              "      <td>-0.237033</td>\n",
              "      <td>-0.038195</td>\n",
              "      <td>0.803487</td>\n",
              "      <td>0.408542</td>\n",
              "      <td>-0.009431</td>\n",
              "      <td>0.798278</td>\n",
              "      <td>-0.137458</td>\n",
              "      <td>0.141267</td>\n",
              "      <td>-0.206010</td>\n",
              "      <td>0.502292</td>\n",
              "      <td>0.219422</td>\n",
              "      <td>0.215153</td>\n",
              "      <td>69.99</td>\n",
              "      <td>0</td>\n",
              "    </tr>\n",
              "  </tbody>\n",
              "</table>\n",
              "</div>\n",
              "      <button class=\"colab-df-convert\" onclick=\"convertToInteractive('df-f85d302e-8782-49f9-88d2-2a78277ebe20')\"\n",
              "              title=\"Convert this dataframe to an interactive table.\"\n",
              "              style=\"display:none;\">\n",
              "        \n",
              "  <svg xmlns=\"http://www.w3.org/2000/svg\" height=\"24px\"viewBox=\"0 0 24 24\"\n",
              "       width=\"24px\">\n",
              "    <path d=\"M0 0h24v24H0V0z\" fill=\"none\"/>\n",
              "    <path d=\"M18.56 5.44l.94 2.06.94-2.06 2.06-.94-2.06-.94-.94-2.06-.94 2.06-2.06.94zm-11 1L8.5 8.5l.94-2.06 2.06-.94-2.06-.94L8.5 2.5l-.94 2.06-2.06.94zm10 10l.94 2.06.94-2.06 2.06-.94-2.06-.94-.94-2.06-.94 2.06-2.06.94z\"/><path d=\"M17.41 7.96l-1.37-1.37c-.4-.4-.92-.59-1.43-.59-.52 0-1.04.2-1.43.59L10.3 9.45l-7.72 7.72c-.78.78-.78 2.05 0 2.83L4 21.41c.39.39.9.59 1.41.59.51 0 1.02-.2 1.41-.59l7.78-7.78 2.81-2.81c.8-.78.8-2.07 0-2.86zM5.41 20L4 18.59l7.72-7.72 1.47 1.35L5.41 20z\"/>\n",
              "  </svg>\n",
              "      </button>\n",
              "      \n",
              "  <style>\n",
              "    .colab-df-container {\n",
              "      display:flex;\n",
              "      flex-wrap:wrap;\n",
              "      gap: 12px;\n",
              "    }\n",
              "\n",
              "    .colab-df-convert {\n",
              "      background-color: #E8F0FE;\n",
              "      border: none;\n",
              "      border-radius: 50%;\n",
              "      cursor: pointer;\n",
              "      display: none;\n",
              "      fill: #1967D2;\n",
              "      height: 32px;\n",
              "      padding: 0 0 0 0;\n",
              "      width: 32px;\n",
              "    }\n",
              "\n",
              "    .colab-df-convert:hover {\n",
              "      background-color: #E2EBFA;\n",
              "      box-shadow: 0px 1px 2px rgba(60, 64, 67, 0.3), 0px 1px 3px 1px rgba(60, 64, 67, 0.15);\n",
              "      fill: #174EA6;\n",
              "    }\n",
              "\n",
              "    [theme=dark] .colab-df-convert {\n",
              "      background-color: #3B4455;\n",
              "      fill: #D2E3FC;\n",
              "    }\n",
              "\n",
              "    [theme=dark] .colab-df-convert:hover {\n",
              "      background-color: #434B5C;\n",
              "      box-shadow: 0px 1px 3px 1px rgba(0, 0, 0, 0.15);\n",
              "      filter: drop-shadow(0px 1px 2px rgba(0, 0, 0, 0.3));\n",
              "      fill: #FFFFFF;\n",
              "    }\n",
              "  </style>\n",
              "\n",
              "      <script>\n",
              "        const buttonEl =\n",
              "          document.querySelector('#df-f85d302e-8782-49f9-88d2-2a78277ebe20 button.colab-df-convert');\n",
              "        buttonEl.style.display =\n",
              "          google.colab.kernel.accessAllowed ? 'block' : 'none';\n",
              "\n",
              "        async function convertToInteractive(key) {\n",
              "          const element = document.querySelector('#df-f85d302e-8782-49f9-88d2-2a78277ebe20');\n",
              "          const dataTable =\n",
              "            await google.colab.kernel.invokeFunction('convertToInteractive',\n",
              "                                                     [key], {});\n",
              "          if (!dataTable) return;\n",
              "\n",
              "          const docLinkHtml = 'Like what you see? Visit the ' +\n",
              "            '<a target=\"_blank\" href=https://colab.research.google.com/notebooks/data_table.ipynb>data table notebook</a>'\n",
              "            + ' to learn more about interactive tables.';\n",
              "          element.innerHTML = '';\n",
              "          dataTable['output_type'] = 'display_data';\n",
              "          await google.colab.output.renderOutput(dataTable, element);\n",
              "          const docLink = document.createElement('div');\n",
              "          docLink.innerHTML = docLinkHtml;\n",
              "          element.appendChild(docLink);\n",
              "        }\n",
              "      </script>\n",
              "    </div>\n",
              "  </div>\n",
              "  "
            ],
            "text/plain": [
              "   Time        V1        V2        V3  ...       V27       V28  Amount  Class\n",
              "0   0.0 -1.359807 -0.072781  2.536347  ...  0.133558 -0.021053  149.62      0\n",
              "1   0.0  1.191857  0.266151  0.166480  ... -0.008983  0.014724    2.69      0\n",
              "2   1.0 -1.358354 -1.340163  1.773209  ... -0.055353 -0.059752  378.66      0\n",
              "3   1.0 -0.966272 -0.185226  1.792993  ...  0.062723  0.061458  123.50      0\n",
              "4   2.0 -1.158233  0.877737  1.548718  ...  0.219422  0.215153   69.99      0\n",
              "\n",
              "[5 rows x 31 columns]"
            ]
          },
          "metadata": {},
          "execution_count": 3
        }
      ]
    },
    {
      "cell_type": "code",
      "source": [
        "df[df['Class']==0]['Time'].describe()"
      ],
      "metadata": {
        "colab": {
          "base_uri": "https://localhost:8080/"
        },
        "id": "oDwDIBvnKOOq",
        "outputId": "14deee88-536a-4e97-e9bb-f0fbf4c86cfe"
      },
      "execution_count": 4,
      "outputs": [
        {
          "output_type": "execute_result",
          "data": {
            "text/plain": [
              "count    284315.000000\n",
              "mean      94838.202258\n",
              "std       47484.015786\n",
              "min           0.000000\n",
              "25%       54230.000000\n",
              "50%       84711.000000\n",
              "75%      139333.000000\n",
              "max      172792.000000\n",
              "Name: Time, dtype: float64"
            ]
          },
          "metadata": {},
          "execution_count": 4
        }
      ]
    },
    {
      "cell_type": "code",
      "source": [
        "df[df['Class']==1]['Time'].describe()"
      ],
      "metadata": {
        "colab": {
          "base_uri": "https://localhost:8080/"
        },
        "id": "Y6GOF6f5RzjI",
        "outputId": "df464858-b6e0-4bc7-eebe-9d45780c4c76"
      },
      "execution_count": 5,
      "outputs": [
        {
          "output_type": "execute_result",
          "data": {
            "text/plain": [
              "count       492.000000\n",
              "mean      80746.806911\n",
              "std       47835.365138\n",
              "min         406.000000\n",
              "25%       41241.500000\n",
              "50%       75568.500000\n",
              "75%      128483.000000\n",
              "max      170348.000000\n",
              "Name: Time, dtype: float64"
            ]
          },
          "metadata": {},
          "execution_count": 5
        }
      ]
    },
    {
      "cell_type": "code",
      "source": [
        "df.groupby('Class')['Class'].count()"
      ],
      "metadata": {
        "colab": {
          "base_uri": "https://localhost:8080/"
        },
        "id": "7pej-4TyJtVL",
        "outputId": "14ac9ecb-7f0d-4744-8b89-1c7aea7ae986"
      },
      "execution_count": 10,
      "outputs": [
        {
          "output_type": "execute_result",
          "data": {
            "text/plain": [
              "Class\n",
              "0    284315\n",
              "1       492\n",
              "Name: Class, dtype: int64"
            ]
          },
          "metadata": {},
          "execution_count": 10
        }
      ]
    },
    {
      "cell_type": "code",
      "source": [
        "plt.figure(figsize=(4,4))\n",
        "\n",
        "#explode = [0,0.001]\n",
        "plt.pie(df['Class'].value_counts(),autopct='%1.2f%%')\n",
        "plt.legend(labels=['Legitimate','Fraudulent'])\n",
        "plt.title('Class Distribution');\n",
        "\n",
        "#Data is highly unbalanced."
      ],
      "metadata": {
        "colab": {
          "base_uri": "https://localhost:8080/",
          "height": 264
        },
        "id": "05zPLtZlKUNU",
        "outputId": "ce5f0260-c87a-4492-aa80-ea51bdc5f0e2"
      },
      "execution_count": 34,
      "outputs": [
        {
          "output_type": "display_data",
          "data": {
            "image/png": "[encoded data removed]",
            "text/plain": [
              "<Figure size 288x288 with 1 Axes>"
            ]
          },
          "metadata": {}
        }
      ]
    },
    {
      "cell_type": "code",
      "source": [
        "fraudulent = df[df['Class'] == 1]\n",
        "legitimate = df[df['Class'] == 0]\n",
        "\n",
        "fig, ax = plt.subplots(2, 1, sharex=True, figsize=(8, 4))\n",
        "\n",
        "ax[0].scatter(fraudulent['Time'], fraudulent['Amount'], c='red')\n",
        "ax[0].set_title('Fraudulent')\n",
        "ax[0].set_xlabel('Time / s')\n",
        "ax[0].set_ylabel('Amount')\n",
        "ax[1].scatter(legitimate['Time'], legitimate['Amount'],c='blue')\n",
        "ax[1].set_title('Legitimate')\n",
        "ax[1].set_xlabel('Time / s')\n",
        "ax[1].set_ylabel('Amount')\n",
        "plt.tight_layout()"
      ],
      "metadata": {
        "colab": {
          "base_uri": "https://localhost:8080/",
          "height": 297
        },
        "outputId": "00dc91eb-9566-45ea-b970-357017744a15",
        "id": "9PX6GmSYV2MY"
      },
      "execution_count": 15,
      "outputs": [
        {
          "output_type": "display_data",
          "data": {
            "image/png": "[encoded data removed]",
            "text/plain": [
              "<Figure size 576x288 with 2 Axes>"
            ]
          },
          "metadata": {
            "needs_background": "light"
          }
        }
      ]
    },
    {
      "cell_type": "code",
      "source": [
        "plt.figure(figsize=(9,4))\n",
        "sns.heatmap(df.corr(),cmap='viridis')"
      ],
      "metadata": {
        "colab": {
          "base_uri": "https://localhost:8080/",
          "height": 315
        },
        "id": "rsck1vaJPjOh",
        "outputId": "aea285ca-d4bb-45a7-80fb-6db13ce6d5e9"
      },
      "execution_count": 21,
      "outputs": [
        {
          "output_type": "execute_result",
          "data": {
            "text/plain": [
              "<matplotlib.axes._subplots.AxesSubplot at 0x7f6ad9349990>"
            ]
          },
          "metadata": {},
          "execution_count": 21
        },
        {
          "output_type": "display_data",
          "data": {
            "image/png": "[encoded data removed]",
            "text/plain": [
              "<Figure size 648x288 with 2 Axes>"
            ]
          },
          "metadata": {
            "needs_background": "light"
          }
        }
      ]
    },
    {
      "cell_type": "markdown",
      "source": [
        "Let's look at a subset of the correlation heatmap, since most of the variables do not have any strong correlation with one another."
      ],
      "metadata": {
        "id": "yYcePFczLApk"
      }
    },
    {
      "cell_type": "code",
      "source": [
        "plt.figure(figsize=(9,4))\n",
        "sns.heatmap(df.corr().loc[['Time','Amount','Class']],cmap='viridis')"
      ],
      "metadata": {
        "colab": {
          "base_uri": "https://localhost:8080/",
          "height": 315
        },
        "id": "AFOEJto4J3bD",
        "outputId": "3744882a-c68d-40b1-e773-d639b751cd86"
      },
      "execution_count": 22,
      "outputs": [
        {
          "output_type": "execute_result",
          "data": {
            "text/plain": [
              "<matplotlib.axes._subplots.AxesSubplot at 0x7f6ad93d8bd0>"
            ]
          },
          "metadata": {},
          "execution_count": 22
        },
        {
          "output_type": "display_data",
          "data": {
            "image/png": "[encoded data removed]",
            "text/plain": [
              "<Figure size 648x288 with 2 Axes>"
            ]
          },
          "metadata": {
            "needs_background": "light"
          }
        }
      ]
    },
    {
      "cell_type": "markdown",
      "source": [
        "There is no obviously strong correlation between the transaction class and any of the 30 variables."
      ],
      "metadata": {
        "id": "in82zJaELQcr"
      }
    },
    {
      "cell_type": "code",
      "source": [
        "plt.figure(figsize=(8,4))\n",
        "\n",
        "df[df['Class']==1]['Amount'].hist(alpha=1,color='red', bins=2500,label='Fraudulent')\n",
        "df[df['Class']==0]['Amount'].hist(alpha=0.2,color='darkblue', bins=2500,label='Legitimate')\n",
        "\n",
        "plt.legend()\n",
        "plt.xlabel('Amount in Euros')\n",
        "plt.xlim(0,300)\n",
        "sns.histplot()"
      ],
      "metadata": {
        "colab": {
          "base_uri": "https://localhost:8080/",
          "height": 296
        },
        "id": "3k4c7o_dPlTO",
        "outputId": "bd985b91-0193-4158-e67d-7a2d5de12ca5"
      },
      "execution_count": 26,
      "outputs": [
        {
          "output_type": "execute_result",
          "data": {
            "text/plain": [
              "<matplotlib.axes._subplots.AxesSubplot at 0x7f6ad1df3390>"
            ]
          },
          "metadata": {},
          "execution_count": 26
        },
        {
          "output_type": "display_data",
          "data": {
            "image/png": "[encoded data removed]",
            "text/plain": [
              "<Figure size 576x288 with 1 Axes>"
            ]
          },
          "metadata": {
            "needs_background": "light"
          }
        }
      ]
    },
    {
      "cell_type": "markdown",
      "source": [
        "The fraudulent transactions are so sparse that they do not show on a histogram showing the distribution of transactions by their amount in Euros. These histograms are thus plotted separately below. "
      ],
      "metadata": {
        "id": "fzQGCNm-LhzV"
      }
    },
    {
      "cell_type": "code",
      "source": [
        "plt.figure(figsize=(8,4))\n",
        "sns.distplot(df[df['Class']==1]['Amount'],kde=False,bins=2500,color='darkred')\n",
        "plt.xlim(0,300)\n",
        "plt.title('Histogram of Fraudulent Transactions')"
      ],
      "metadata": {
        "colab": {
          "base_uri": "https://localhost:8080/",
          "height": 367
        },
        "id": "2IknJhWcPpgr",
        "outputId": "d51949f4-0c32-4155-a7ac-7255b9b736b1"
      },
      "execution_count": 27,
      "outputs": [
        {
          "output_type": "stream",
          "name": "stderr",
          "text": [
            "/usr/local/lib/python3.7/dist-packages/seaborn/distributions.py:2619: FutureWarning: `distplot` is a deprecated function and will be removed in a future version. Please adapt your code to use either `displot` (a figure-level function with similar flexibility) or `histplot` (an axes-level function for histograms).\n",
            "  warnings.warn(msg, FutureWarning)\n"
          ]
        },
        {
          "output_type": "execute_result",
          "data": {
            "text/plain": [
              "Text(0.5, 1.0, 'Histogram of Fraudulent Transactions')"
            ]
          },
          "metadata": {},
          "execution_count": 27
        },
        {
          "output_type": "display_data",
          "data": {
            "image/png": "[encoded data removed]",
            "text/plain": [
              "<Figure size 576x288 with 1 Axes>"
            ]
          },
          "metadata": {
            "needs_background": "light"
          }
        }
      ]
    },
    {
      "cell_type": "code",
      "source": [
        "plt.figure(figsize=(8,4))\n",
        "sns.distplot(df[df['Class']==0]['Amount'],kde=False,bins=2500,color='darkblue')\n",
        "plt.xlim(0,300)\n",
        "plt.title('Histogram of Legitimate Transactions')"
      ],
      "metadata": {
        "colab": {
          "base_uri": "https://localhost:8080/",
          "height": 367
        },
        "id": "B5QiUwSxPyT-",
        "outputId": "88ff3153-7cbd-4459-d5a3-f503b81ee4a4"
      },
      "execution_count": 28,
      "outputs": [
        {
          "output_type": "stream",
          "name": "stderr",
          "text": [
            "/usr/local/lib/python3.7/dist-packages/seaborn/distributions.py:2619: FutureWarning: `distplot` is a deprecated function and will be removed in a future version. Please adapt your code to use either `displot` (a figure-level function with similar flexibility) or `histplot` (an axes-level function for histograms).\n",
            "  warnings.warn(msg, FutureWarning)\n"
          ]
        },
        {
          "output_type": "execute_result",
          "data": {
            "text/plain": [
              "Text(0.5, 1.0, 'Histogram of Legitimate Transactions')"
            ]
          },
          "metadata": {},
          "execution_count": 28
        },
        {
          "output_type": "display_data",
          "data": {
            "image/png": "[encoded data removed]",
            "text/plain": [
              "<Figure size 576x288 with 1 Axes>"
            ]
          },
          "metadata": {
            "needs_background": "light"
          }
        }
      ]
    },
    {
      "cell_type": "code",
      "source": [
        "plt.figure(figsize=(8,4))\n",
        "sns.boxplot(x='Class',y='Amount',data=df,palette='Set1')\n",
        "plt.xlabel('Fraudulent')\n",
        "plt.ylim(0,280)"
      ],
      "metadata": {
        "colab": {
          "base_uri": "https://localhost:8080/",
          "height": 296
        },
        "id": "W5aMKSThP8jM",
        "outputId": "6bdc3aed-61c9-4904-c223-2e712cafbe9b"
      },
      "execution_count": 35,
      "outputs": [
        {
          "output_type": "execute_result",
          "data": {
            "text/plain": [
              "(0.0, 280.0)"
            ]
          },
          "metadata": {},
          "execution_count": 35
        },
        {
          "output_type": "display_data",
          "data": {
            "image/png": "[encoded data removed]",
            "text/plain": [
              "<Figure size 576x288 with 1 Axes>"
            ]
          },
          "metadata": {
            "needs_background": "light"
          }
        }
      ]
    },
    {
      "cell_type": "code",
      "source": [
        "from sklearn.model_selection import train_test_split"
      ],
      "metadata": {
        "id": "qOwnmLwLQIcE"
      },
      "execution_count": 36,
      "outputs": []
    },
    {
      "cell_type": "code",
      "source": [
        "X = df.drop('Class',axis=1)\n",
        "y = df['Class']"
      ],
      "metadata": {
        "id": "vmwD_LCDQRQb"
      },
      "execution_count": 63,
      "outputs": []
    },
    {
      "cell_type": "code",
      "source": [
        "X_train, X_test, y_train, y_test = train_test_split(X, y, test_size=0.2)"
      ],
      "metadata": {
        "id": "Y_x5dUEeQTsM"
      },
      "execution_count": 64,
      "outputs": []
    },
    {
      "cell_type": "code",
      "source": [
        "#data needs to be scaled to give accurate parameter weighting for machine learning models\n",
        "from sklearn.preprocessing import MinMaxScaler\n",
        "scaler = MinMaxScaler()\n",
        "scaler.fit(X_train)\n",
        "X_train = scaler.transform(X_train)\n",
        "X_test = scaler.transform(X_test)"
      ],
      "metadata": {
        "id": "IhDfQBTiQW54"
      },
      "execution_count": 65,
      "outputs": []
    },
    {
      "cell_type": "markdown",
      "source": [
        "First try logistic regression classifier model"
      ],
      "metadata": {
        "id": "ujpYlfLjQgsA"
      }
    },
    {
      "cell_type": "code",
      "source": [
        "from sklearn.linear_model import LogisticRegression\n",
        "model = LogisticRegression()\n",
        "model.fit(X_train,y_train)\n",
        "predictions = model.predict(X_test)"
      ],
      "metadata": {
        "id": "x7wsCwwVQvyv"
      },
      "execution_count": 66,
      "outputs": []
    },
    {
      "cell_type": "code",
      "source": [
        "from sklearn.metrics import classification_report, confusion_matrix\n",
        "print(classification_report(y_test,predictions))\n",
        "print(confusion_matrix(y_test,predictions))"
      ],
      "metadata": {
        "colab": {
          "base_uri": "https://localhost:8080/"
        },
        "id": "-ea60XkKQ2-b",
        "outputId": "35b5b187-778d-4172-ee43-4dc4965a2e6f"
      },
      "execution_count": 67,
      "outputs": [
        {
          "output_type": "stream",
          "name": "stdout",
          "text": [
            "              precision    recall  f1-score   support\n",
            "\n",
            "           0       1.00      1.00      1.00     56865\n",
            "           1       0.89      0.60      0.72        97\n",
            "\n",
            "    accuracy                           1.00     56962\n",
            "   macro avg       0.95      0.80      0.86     56962\n",
            "weighted avg       1.00      1.00      1.00     56962\n",
            "\n",
            "[[56858     7]\n",
            " [   39    58]]\n"
          ]
        }
      ]
    },
    {
      "cell_type": "markdown",
      "source": [
        "The model correctly categorised the overwhelming majority of non-fraudulent transactions but 39 of 97 fraudulent transactions were wrongly classified. This is not a great result, let's try a different model."
      ],
      "metadata": {
        "id": "wcmhwcOMgwJc"
      }
    },
    {
      "cell_type": "markdown",
      "source": [
        "Try K Nearest Neighbours classifier with n = 1"
      ],
      "metadata": {
        "id": "kt0gYpZLRCxj"
      }
    },
    {
      "cell_type": "code",
      "source": [
        "from sklearn.neighbors import KNeighborsClassifier\n",
        "knn = KNeighborsClassifier(n_neighbors=1)\n",
        "knn.fit(X_train,y_train)"
      ],
      "metadata": {
        "id": "N0uBGN5OQ6M0",
        "colab": {
          "base_uri": "https://localhost:8080/"
        },
        "outputId": "b17bf958-3045-48c7-c598-6bd7893b4e42"
      },
      "execution_count": 68,
      "outputs": [
        {
          "output_type": "execute_result",
          "data": {
            "text/plain": [
              "KNeighborsClassifier(n_neighbors=1)"
            ]
          },
          "metadata": {},
          "execution_count": 68
        }
      ]
    },
    {
      "cell_type": "code",
      "source": [
        "pred = knn.predict(X_test)"
      ],
      "metadata": {
        "id": "3irpTBAiRL3y"
      },
      "execution_count": 69,
      "outputs": []
    },
    {
      "cell_type": "code",
      "source": [
        "print(classification_report(y_test,pred))\n",
        "print(confusion_matrix(y_test,pred))"
      ],
      "metadata": {
        "colab": {
          "base_uri": "https://localhost:8080/"
        },
        "id": "de-6NLTiRO0K",
        "outputId": "8f06f6d0-a8a6-4738-af22-1813ee0694a7"
      },
      "execution_count": 70,
      "outputs": [
        {
          "output_type": "stream",
          "name": "stdout",
          "text": [
            "              precision    recall  f1-score   support\n",
            "\n",
            "           0       1.00      1.00      1.00     56865\n",
            "           1       0.87      0.79      0.83        97\n",
            "\n",
            "    accuracy                           1.00     56962\n",
            "   macro avg       0.93      0.90      0.91     56962\n",
            "weighted avg       1.00      1.00      1.00     56962\n",
            "\n",
            "[[56853    12]\n",
            " [   20    77]]\n"
          ]
        }
      ]
    },
    {
      "cell_type": "markdown",
      "source": [
        "The KNN model reduces the number of wrongly classified fraudulent transactions to 20/97, which is a much better result. Only 12 out of 56,871 legitimate transactions are wrongly categorised as fraudulent."
      ],
      "metadata": {
        "id": "Qavnhv3AhpIo"
      }
    },
    {
      "cell_type": "markdown",
      "source": [
        "Try a random forest classifier with 100 iterations"
      ],
      "metadata": {
        "id": "Obnt_cMnRc2x"
      }
    },
    {
      "cell_type": "code",
      "source": [
        "from sklearn.ensemble import RandomForestClassifier\n",
        "rfc = RandomForestClassifier(n_estimators=100)\n",
        "rfc.fit(X_train,y_train)\n",
        "predictions = rfc.predict(X_test)"
      ],
      "metadata": {
        "id": "Ps_FjoXpRfCS"
      },
      "execution_count": 71,
      "outputs": []
    },
    {
      "cell_type": "code",
      "source": [
        "print('Classification Report \\n')\n",
        "print(classification_report(y_test,predictions))\n",
        "print('\\n Confusion Matrix \\n')\n",
        "print(confusion_matrix(y_test,predictions))"
      ],
      "metadata": {
        "colab": {
          "base_uri": "https://localhost:8080/"
        },
        "id": "u4VIABquSAa9",
        "outputId": "f4281829-8eee-4d6e-9e24-a39c1cdbf6b1"
      },
      "execution_count": 72,
      "outputs": [
        {
          "output_type": "stream",
          "name": "stdout",
          "text": [
            "Classification Report \n",
            "\n",
            "              precision    recall  f1-score   support\n",
            "\n",
            "           0       1.00      1.00      1.00     56865\n",
            "           1       0.98      0.82      0.89        97\n",
            "\n",
            "    accuracy                           1.00     56962\n",
            "   macro avg       0.99      0.91      0.95     56962\n",
            "weighted avg       1.00      1.00      1.00     56962\n",
            "\n",
            "\n",
            " Confusion Matrix \n",
            "\n",
            "[[56863     2]\n",
            " [   17    80]]\n"
          ]
        }
      ]
    },
    {
      "cell_type": "markdown",
      "source": [
        "Random forest classifier reduces the number of false positives to 2 and performs slightly better than the KNN algorishm on the fraudulent transactions, falsly labelling only 17 out 97 transactions as legitimate.\n",
        "\n",
        "Next we will try a Naive Bayes classifier model."
      ],
      "metadata": {
        "id": "3EdMz1GOkBvx"
      }
    },
    {
      "cell_type": "code",
      "source": [
        "from sklearn.naive_bayes import GaussianNB\n",
        "classifier = GaussianNB()\n",
        "classifier.fit(X_train, y_train)\n",
        "y_pred = classifier.predict(X_test)"
      ],
      "metadata": {
        "id": "aQqRYHRZPKdm"
      },
      "execution_count": 73,
      "outputs": []
    },
    {
      "cell_type": "code",
      "source": [
        "print('Classification Report \\n')\n",
        "print(classification_report(y_test,y_pred))\n",
        "print('\\n Confusion Matrix \\n')\n",
        "print(confusion_matrix(y_test,y_pred))"
      ],
      "metadata": {
        "colab": {
          "base_uri": "https://localhost:8080/"
        },
        "id": "7Lojl35vPMJn",
        "outputId": "f513d667-3473-4b3f-cdff-592ef2a80533"
      },
      "execution_count": 74,
      "outputs": [
        {
          "output_type": "stream",
          "name": "stdout",
          "text": [
            "Classification Report \n",
            "\n",
            "              precision    recall  f1-score   support\n",
            "\n",
            "           0       1.00      0.98      0.99     56865\n",
            "           1       0.06      0.86      0.11        97\n",
            "\n",
            "    accuracy                           0.98     56962\n",
            "   macro avg       0.53      0.92      0.55     56962\n",
            "weighted avg       1.00      0.98      0.99     56962\n",
            "\n",
            "\n",
            " Confusion Matrix \n",
            "\n",
            "[[55536  1329]\n",
            " [   14    83]]\n"
          ]
        }
      ]
    },
    {
      "cell_type": "markdown",
      "source": [
        "The Naive Bayes classifier model performs poorly with a very high false positive rate, which will be very annoying to the customers. "
      ],
      "metadata": {
        "id": "jVBThpUqPq6r"
      }
    },
    {
      "cell_type": "markdown",
      "source": [
        "Import TensorFlow and implement an artificial neural network."
      ],
      "metadata": {
        "id": "_3b7JDDNSDm3"
      }
    },
    {
      "cell_type": "code",
      "source": [
        "import tensorflow as tf\n",
        "from tensorflow.keras.models import Sequential\n",
        "from tensorflow.keras.layers import Dense,Dropout"
      ],
      "metadata": {
        "id": "S7wPs_BqSBlO"
      },
      "execution_count": 75,
      "outputs": []
    },
    {
      "cell_type": "code",
      "source": [
        "X_train.shape"
      ],
      "metadata": {
        "colab": {
          "base_uri": "https://localhost:8080/"
        },
        "id": "PMUBG-isSaGT",
        "outputId": "55126cff-6a8d-41bf-d906-ac86d872be06"
      },
      "execution_count": 76,
      "outputs": [
        {
          "output_type": "execute_result",
          "data": {
            "text/plain": [
              "(227845, 30)"
            ]
          },
          "metadata": {},
          "execution_count": 76
        }
      ]
    },
    {
      "cell_type": "markdown",
      "source": [
        "X has 30 inputs, so we we will use 30 units in the first layer of the network."
      ],
      "metadata": {
        "id": "2C0KpeHYTNst"
      }
    },
    {
      "cell_type": "code",
      "source": [
        "model = Sequential()\n",
        "#define number of model layers and number of neurons in each layer\n",
        "model.add(Dense(units=30,activation='relu'))\n",
        "model.add(Dropout(0.1))\n",
        "model.add(Dense(units=20,activation='relu'))\n",
        "model.add(Dropout(0.1))\n",
        "model.add(Dense(units=20,activation='relu'))\n",
        "model.add(Dropout(0.1))\n",
        "model.add(Dense(units=10,activation='relu'))\n",
        "model.add(Dropout(0.1))\n",
        "model.add(Dense(units=5,activation='relu'))\n",
        "model.add(Dropout(0.1))\n",
        "# This is a binary classification problem, so we require a sigmoid activation function\n",
        "model.add(Dense(units=1,activation='sigmoid'))\n",
        "# compile the model\n",
        "model.compile(loss='binary_crossentropy', optimizer='adam')"
      ],
      "metadata": {
        "id": "q_ATkkY0SajD"
      },
      "execution_count": 77,
      "outputs": []
    },
    {
      "cell_type": "code",
      "source": [
        "model.fit(x=X_train,y=y_train,epochs=100,batch_size=32,validation_data=(X_test, y_test))"
      ],
      "metadata": {
        "colab": {
          "base_uri": "https://localhost:8080/"
        },
        "id": "lu_Qn1JESbJD",
        "outputId": "a8524863-a92c-4dcc-926a-6bbdd9a94820"
      },
      "execution_count": 78,
      "outputs": [
        {
          "output_type": "stream",
          "name": "stdout",
          "text": [
            "Epoch 1/100\n",
            "7121/7121 [==============================] - 26s 3ms/step - loss: 0.0134 - val_loss: 0.0045\n",
            "Epoch 2/100\n",
            "7121/7121 [==============================] - 23s 3ms/step - loss: 0.0062 - val_loss: 0.0030\n",
            "Epoch 3/100\n",
            "7121/7121 [==============================] - 23s 3ms/step - loss: 0.0058 - val_loss: 0.0035\n",
            "Epoch 4/100\n",
            "7121/7121 [==============================] - 23s 3ms/step - loss: 0.0051 - val_loss: 0.0039\n",
            "Epoch 5/100\n",
            "7121/7121 [==============================] - 23s 3ms/step - loss: 0.0051 - val_loss: 0.0047\n",
            "Epoch 6/100\n",
            "7121/7121 [==============================] - 23s 3ms/step - loss: 0.0050 - val_loss: 0.0045\n",
            "Epoch 7/100\n",
            "7121/7121 [==============================] - 23s 3ms/step - loss: 0.0049 - val_loss: 0.0033\n",
            "Epoch 8/100\n",
            "7121/7121 [==============================] - 23s 3ms/step - loss: 0.0048 - val_loss: 0.0042\n",
            "Epoch 9/100\n",
            "7121/7121 [==============================] - 23s 3ms/step - loss: 0.0048 - val_loss: 0.0028\n",
            "Epoch 10/100\n",
            "7121/7121 [==============================] - 23s 3ms/step - loss: 0.0048 - val_loss: 0.0031\n",
            "Epoch 11/100\n",
            "7121/7121 [==============================] - 23s 3ms/step - loss: 0.0047 - val_loss: 0.0028\n",
            "Epoch 12/100\n",
            "7121/7121 [==============================] - 23s 3ms/step - loss: 0.0047 - val_loss: 0.0030\n",
            "Epoch 13/100\n",
            "7121/7121 [==============================] - 23s 3ms/step - loss: 0.0048 - val_loss: 0.0035\n",
            "Epoch 14/100\n",
            "7121/7121 [==============================] - 24s 3ms/step - loss: 0.0045 - val_loss: 0.0032\n",
            "Epoch 15/100\n",
            "7121/7121 [==============================] - 23s 3ms/step - loss: 0.0045 - val_loss: 0.0032\n",
            "Epoch 16/100\n",
            "7121/7121 [==============================] - 26s 4ms/step - loss: 0.0043 - val_loss: 0.0028\n",
            "Epoch 17/100\n",
            "7121/7121 [==============================] - 23s 3ms/step - loss: 0.0045 - val_loss: 0.0025\n",
            "Epoch 18/100\n",
            "7121/7121 [==============================] - 23s 3ms/step - loss: 0.0046 - val_loss: 0.0027\n",
            "Epoch 19/100\n",
            "7121/7121 [==============================] - 23s 3ms/step - loss: 0.0044 - val_loss: 0.0026\n",
            "Epoch 20/100\n",
            "7121/7121 [==============================] - 26s 4ms/step - loss: 0.0044 - val_loss: 0.0025\n",
            "Epoch 21/100\n",
            "7121/7121 [==============================] - 26s 4ms/step - loss: 0.0043 - val_loss: 0.0030\n",
            "Epoch 22/100\n",
            "7121/7121 [==============================] - 23s 3ms/step - loss: 0.0045 - val_loss: 0.0028\n",
            "Epoch 23/100\n",
            "7121/7121 [==============================] - 23s 3ms/step - loss: 0.0043 - val_loss: 0.0028\n",
            "Epoch 24/100\n",
            "7121/7121 [==============================] - 23s 3ms/step - loss: 0.0043 - val_loss: 0.0028\n",
            "Epoch 25/100\n",
            "7121/7121 [==============================] - 23s 3ms/step - loss: 0.0044 - val_loss: 0.0027\n",
            "Epoch 26/100\n",
            "7121/7121 [==============================] - 23s 3ms/step - loss: 0.0041 - val_loss: 0.0030\n",
            "Epoch 27/100\n",
            "7121/7121 [==============================] - 24s 3ms/step - loss: 0.0044 - val_loss: 0.0028\n",
            "Epoch 28/100\n",
            "7121/7121 [==============================] - 23s 3ms/step - loss: 0.0043 - val_loss: 0.0029\n",
            "Epoch 29/100\n",
            "7121/7121 [==============================] - 23s 3ms/step - loss: 0.0044 - val_loss: 0.0027\n",
            "Epoch 30/100\n",
            "7121/7121 [==============================] - 23s 3ms/step - loss: 0.0042 - val_loss: 0.0039\n",
            "Epoch 31/100\n",
            "7121/7121 [==============================] - 23s 3ms/step - loss: 0.0044 - val_loss: 0.0030\n",
            "Epoch 32/100\n",
            "7121/7121 [==============================] - 23s 3ms/step - loss: 0.0043 - val_loss: 0.0029\n",
            "Epoch 33/100\n",
            "7121/7121 [==============================] - 23s 3ms/step - loss: 0.0042 - val_loss: 0.0032\n",
            "Epoch 34/100\n",
            "7121/7121 [==============================] - 23s 3ms/step - loss: 0.0043 - val_loss: 0.0027\n",
            "Epoch 35/100\n",
            "7121/7121 [==============================] - 23s 3ms/step - loss: 0.0044 - val_loss: 0.0029\n",
            "Epoch 36/100\n",
            "7121/7121 [==============================] - 23s 3ms/step - loss: 0.0041 - val_loss: 0.0027\n",
            "Epoch 37/100\n",
            "7121/7121 [==============================] - 23s 3ms/step - loss: 0.0043 - val_loss: 0.0026\n",
            "Epoch 38/100\n",
            "7121/7121 [==============================] - 23s 3ms/step - loss: 0.0042 - val_loss: 0.0028\n",
            "Epoch 39/100\n",
            "7121/7121 [==============================] - 23s 3ms/step - loss: 0.0043 - val_loss: 0.0029\n",
            "Epoch 40/100\n",
            "7121/7121 [==============================] - 26s 4ms/step - loss: 0.0042 - val_loss: 0.0032\n",
            "Epoch 41/100\n",
            "7121/7121 [==============================] - 23s 3ms/step - loss: 0.0043 - val_loss: 0.0037\n",
            "Epoch 42/100\n",
            "7121/7121 [==============================] - 23s 3ms/step - loss: 0.0043 - val_loss: 0.0025\n",
            "Epoch 43/100\n",
            "7121/7121 [==============================] - 23s 3ms/step - loss: 0.0043 - val_loss: 0.0026\n",
            "Epoch 44/100\n",
            "7121/7121 [==============================] - 23s 3ms/step - loss: 0.0041 - val_loss: 0.0026\n",
            "Epoch 45/100\n",
            "7121/7121 [==============================] - 23s 3ms/step - loss: 0.0041 - val_loss: 0.0027\n",
            "Epoch 46/100\n",
            "7121/7121 [==============================] - 23s 3ms/step - loss: 0.0042 - val_loss: 0.0032\n",
            "Epoch 47/100\n",
            "7121/7121 [==============================] - 23s 3ms/step - loss: 0.0041 - val_loss: 0.0031\n",
            "Epoch 48/100\n",
            "7121/7121 [==============================] - 23s 3ms/step - loss: 0.0042 - val_loss: 0.0026\n",
            "Epoch 49/100\n",
            "7121/7121 [==============================] - 23s 3ms/step - loss: 0.0043 - val_loss: 0.0026\n",
            "Epoch 50/100\n",
            "7121/7121 [==============================] - 23s 3ms/step - loss: 0.0041 - val_loss: 0.0027\n",
            "Epoch 51/100\n",
            "7121/7121 [==============================] - 23s 3ms/step - loss: 0.0042 - val_loss: 0.0026\n",
            "Epoch 52/100\n",
            "7121/7121 [==============================] - 23s 3ms/step - loss: 0.0042 - val_loss: 0.0032\n",
            "Epoch 53/100\n",
            "7121/7121 [==============================] - 26s 4ms/step - loss: 0.0042 - val_loss: 0.0026\n",
            "Epoch 54/100\n",
            "7121/7121 [==============================] - 23s 3ms/step - loss: 0.0041 - val_loss: 0.0028\n",
            "Epoch 55/100\n",
            "7121/7121 [==============================] - 24s 3ms/step - loss: 0.0041 - val_loss: 0.0032\n",
            "Epoch 56/100\n",
            "7121/7121 [==============================] - 23s 3ms/step - loss: 0.0042 - val_loss: 0.0025\n",
            "Epoch 57/100\n",
            "7121/7121 [==============================] - 23s 3ms/step - loss: 0.0042 - val_loss: 0.0047\n",
            "Epoch 58/100\n",
            "7121/7121 [==============================] - 23s 3ms/step - loss: 0.0041 - val_loss: 0.0028\n",
            "Epoch 59/100\n",
            "7121/7121 [==============================] - 23s 3ms/step - loss: 0.0044 - val_loss: 0.0025\n",
            "Epoch 60/100\n",
            "7121/7121 [==============================] - 23s 3ms/step - loss: 0.0041 - val_loss: 0.0026\n",
            "Epoch 61/100\n",
            "7121/7121 [==============================] - 23s 3ms/step - loss: 0.0039 - val_loss: 0.0024\n",
            "Epoch 62/100\n",
            "7121/7121 [==============================] - 23s 3ms/step - loss: 0.0040 - val_loss: 0.0025\n",
            "Epoch 63/100\n",
            "7121/7121 [==============================] - 23s 3ms/step - loss: 0.0040 - val_loss: 0.0025\n",
            "Epoch 64/100\n",
            "7121/7121 [==============================] - 26s 4ms/step - loss: 0.0040 - val_loss: 0.0025\n",
            "Epoch 65/100\n",
            "7121/7121 [==============================] - 23s 3ms/step - loss: 0.0041 - val_loss: 0.0024\n",
            "Epoch 66/100\n",
            "7121/7121 [==============================] - 26s 4ms/step - loss: 0.0039 - val_loss: 0.0026\n",
            "Epoch 67/100\n",
            "7121/7121 [==============================] - 23s 3ms/step - loss: 0.0040 - val_loss: 0.0027\n",
            "Epoch 68/100\n",
            "7121/7121 [==============================] - 23s 3ms/step - loss: 0.0040 - val_loss: 0.0026\n",
            "Epoch 69/100\n",
            "7121/7121 [==============================] - 23s 3ms/step - loss: 0.0041 - val_loss: 0.0027\n",
            "Epoch 70/100\n",
            "7121/7121 [==============================] - 23s 3ms/step - loss: 0.0042 - val_loss: 0.0027\n",
            "Epoch 71/100\n",
            "7121/7121 [==============================] - 23s 3ms/step - loss: 0.0040 - val_loss: 0.0026\n",
            "Epoch 72/100\n",
            "7121/7121 [==============================] - 23s 3ms/step - loss: 0.0042 - val_loss: 0.0026\n",
            "Epoch 73/100\n",
            "7121/7121 [==============================] - 23s 3ms/step - loss: 0.0039 - val_loss: 0.0029\n",
            "Epoch 74/100\n",
            "7121/7121 [==============================] - 23s 3ms/step - loss: 0.0040 - val_loss: 0.0027\n",
            "Epoch 75/100\n",
            "7121/7121 [==============================] - 23s 3ms/step - loss: 0.0039 - val_loss: 0.0031\n",
            "Epoch 76/100\n",
            "7121/7121 [==============================] - 23s 3ms/step - loss: 0.0039 - val_loss: 0.0035\n",
            "Epoch 77/100\n",
            "7121/7121 [==============================] - 23s 3ms/step - loss: 0.0041 - val_loss: 0.0029\n",
            "Epoch 78/100\n",
            "7121/7121 [==============================] - 23s 3ms/step - loss: 0.0040 - val_loss: 0.0026\n",
            "Epoch 79/100\n",
            "7121/7121 [==============================] - 23s 3ms/step - loss: 0.0040 - val_loss: 0.0029\n",
            "Epoch 80/100\n",
            "7121/7121 [==============================] - 24s 3ms/step - loss: 0.0038 - val_loss: 0.0025\n",
            "Epoch 81/100\n",
            "7121/7121 [==============================] - 23s 3ms/step - loss: 0.0041 - val_loss: 0.0023\n",
            "Epoch 82/100\n",
            "7121/7121 [==============================] - 23s 3ms/step - loss: 0.0039 - val_loss: 0.0026\n",
            "Epoch 83/100\n",
            "7121/7121 [==============================] - 23s 3ms/step - loss: 0.0038 - val_loss: 0.0028\n",
            "Epoch 84/100\n",
            "7121/7121 [==============================] - 23s 3ms/step - loss: 0.0040 - val_loss: 0.0026\n",
            "Epoch 85/100\n",
            "7121/7121 [==============================] - 23s 3ms/step - loss: 0.0040 - val_loss: 0.0025\n",
            "Epoch 86/100\n",
            "7121/7121 [==============================] - 23s 3ms/step - loss: 0.0039 - val_loss: 0.0025\n",
            "Epoch 87/100\n",
            "7121/7121 [==============================] - 23s 3ms/step - loss: 0.0040 - val_loss: 0.0028\n",
            "Epoch 88/100\n",
            "7121/7121 [==============================] - 23s 3ms/step - loss: 0.0040 - val_loss: 0.0026\n",
            "Epoch 89/100\n",
            "7121/7121 [==============================] - 23s 3ms/step - loss: 0.0039 - val_loss: 0.0028\n",
            "Epoch 90/100\n",
            "7121/7121 [==============================] - 23s 3ms/step - loss: 0.0040 - val_loss: 0.0026\n",
            "Epoch 91/100\n",
            "7121/7121 [==============================] - 23s 3ms/step - loss: 0.0040 - val_loss: 0.0029\n",
            "Epoch 92/100\n",
            "7121/7121 [==============================] - 23s 3ms/step - loss: 0.0039 - val_loss: 0.0024\n",
            "Epoch 93/100\n",
            "7121/7121 [==============================] - 26s 4ms/step - loss: 0.0041 - val_loss: 0.0034\n",
            "Epoch 94/100\n",
            "7121/7121 [==============================] - 23s 3ms/step - loss: 0.0039 - val_loss: 0.0029\n",
            "Epoch 95/100\n",
            "7121/7121 [==============================] - 23s 3ms/step - loss: 0.0039 - val_loss: 0.0027\n",
            "Epoch 96/100\n",
            "7121/7121 [==============================] - 23s 3ms/step - loss: 0.0040 - val_loss: 0.0026\n",
            "Epoch 97/100\n",
            "7121/7121 [==============================] - 23s 3ms/step - loss: 0.0040 - val_loss: 0.0024\n",
            "Epoch 98/100\n",
            "7121/7121 [==============================] - 23s 3ms/step - loss: 0.0039 - val_loss: 0.0025\n",
            "Epoch 99/100\n",
            "7121/7121 [==============================] - 23s 3ms/step - loss: 0.0041 - val_loss: 0.0026\n",
            "Epoch 100/100\n",
            "7121/7121 [==============================] - 23s 3ms/step - loss: 0.0039 - val_loss: 0.0024\n"
          ]
        },
        {
          "output_type": "execute_result",
          "data": {
            "text/plain": [
              "<keras.callbacks.History at 0x7f6a50095490>"
            ]
          },
          "metadata": {},
          "execution_count": 78
        }
      ]
    },
    {
      "cell_type": "code",
      "source": [
        "model_loss = pd.DataFrame(model.history.history)\n",
        "model_loss.plot(figsize=(8,4))"
      ],
      "metadata": {
        "colab": {
          "base_uri": "https://localhost:8080/",
          "height": 282
        },
        "id": "E4wr-EbUSxfm",
        "outputId": "5bb7b93b-4ad2-41ff-b2ac-a25505402506"
      },
      "execution_count": 79,
      "outputs": [
        {
          "output_type": "execute_result",
          "data": {
            "text/plain": [
              "<matplotlib.axes._subplots.AxesSubplot at 0x7f69e6313610>"
            ]
          },
          "metadata": {},
          "execution_count": 79
        },
        {
          "output_type": "display_data",
          "data": {
            "image/png": "[encoded data removed]",
            "text/plain": [
              "<Figure size 576x288 with 1 Axes>"
            ]
          },
          "metadata": {
            "needs_background": "light"
          }
        }
      ]
    },
    {
      "cell_type": "code",
      "source": [
        "nn_pred = (model.predict(X_test) > 0.5).astype(\"int32\")\n",
        "print(\"Classification Report \\n\\n\", classification_report(y_test,nn_pred))\n",
        "print(\"Confusion Matrix \\n\\n\", confusion_matrix(y_test,nn_pred))"
      ],
      "metadata": {
        "id": "5MDhXy81SyCP",
        "colab": {
          "base_uri": "https://localhost:8080/"
        },
        "outputId": "1687ec51-93ce-4b85-a0aa-7e710e07c414"
      },
      "execution_count": 80,
      "outputs": [
        {
          "output_type": "stream",
          "name": "stdout",
          "text": [
            "Classification Report \n",
            "\n",
            "               precision    recall  f1-score   support\n",
            "\n",
            "           0       1.00      1.00      1.00     56865\n",
            "           1       0.91      0.74      0.82        97\n",
            "\n",
            "    accuracy                           1.00     56962\n",
            "   macro avg       0.96      0.87      0.91     56962\n",
            "weighted avg       1.00      1.00      1.00     56962\n",
            "\n",
            "Confusion Matrix \n",
            "\n",
            " [[56858     7]\n",
            " [   25    72]]\n"
          ]
        }
      ]
    },
    {
      "cell_type": "code",
      "source": [
        "import random\n",
        "random.seed(3)\n",
        "random_ind = random.randint(0,len(df))\n",
        "\n",
        "test_transaction = df.drop('Class',axis=1).iloc[random_ind]\n",
        "test_transaction"
      ],
      "metadata": {
        "colab": {
          "base_uri": "https://localhost:8080/"
        },
        "id": "K7L8sR8FS5AT",
        "outputId": "ecd8c8d2-7f95-4a98-e0d6-44689192a907"
      },
      "execution_count": 81,
      "outputs": [
        {
          "output_type": "execute_result",
          "data": {
            "text/plain": [
              "Time      77415.000000\n",
              "V1           -0.731833\n",
              "V2            0.631244\n",
              "V3            1.352622\n",
              "V4           -0.250513\n",
              "V5            0.829905\n",
              "V6            1.425032\n",
              "V7            0.359005\n",
              "V8            0.682196\n",
              "V9           -0.721615\n",
              "V10          -0.777572\n",
              "V11           2.199711\n",
              "V12           0.303323\n",
              "V13          -1.226696\n",
              "V14           0.191112\n",
              "V15           1.398352\n",
              "V16          -0.659118\n",
              "V17           1.042950\n",
              "V18          -1.396318\n",
              "V19          -1.257195\n",
              "V20          -0.130662\n",
              "V21          -0.013267\n",
              "V22          -0.095202\n",
              "V23           0.154927\n",
              "V24          -1.098428\n",
              "V25          -0.691598\n",
              "V26           0.160788\n",
              "V27           0.122187\n",
              "V28           0.106039\n",
              "Amount       34.990000\n",
              "Name: 124761, dtype: float64"
            ]
          },
          "metadata": {},
          "execution_count": 81
        }
      ]
    },
    {
      "cell_type": "code",
      "source": [
        "model.predict(test_transaction.values.reshape(1,30))"
      ],
      "metadata": {
        "colab": {
          "base_uri": "https://localhost:8080/"
        },
        "id": "6fgz2UnZS8KE",
        "outputId": "84613a4d-6910-46df-8e75-8c9be629caf5"
      },
      "execution_count": 82,
      "outputs": [
        {
          "output_type": "execute_result",
          "data": {
            "text/plain": [
              "array([[1.]], dtype=float32)"
            ]
          },
          "metadata": {},
          "execution_count": 82
        }
      ]
    },
    {
      "cell_type": "code",
      "source": [
        "df['Class'].iloc[random_ind]"
      ],
      "metadata": {
        "colab": {
          "base_uri": "https://localhost:8080/"
        },
        "id": "kpaGS6ZpS_TW",
        "outputId": "01462024-d66c-4409-83fe-35e81dc4e36d"
      },
      "execution_count": 83,
      "outputs": [
        {
          "output_type": "execute_result",
          "data": {
            "text/plain": [
              "0"
            ]
          },
          "metadata": {},
          "execution_count": 83
        }
      ]
    },
    {
      "cell_type": "markdown",
      "source": [
        "The neural network performed well but was less accurate in its predictions than the KNN and random forest models. This is likely because neural networks tend to perform better on tasks with very large data sets and many input parameters, such as image analysis or voice recognition or because the model was not optimised. The model with the best overall prediction is the random forest classifier, which correctly classified 80 out of 97 fraudulent transactions and only classified 2 legitimate transactions out of 56,865 as wrongly fraudulent.\n",
        "\n",
        "Further work on this project could involve developing the KNN classifier for a larger number of nearest neighbour, though this is quite computationally expensive given the very large number of examples in this data set. Alternatively the neural network could be developed in order to optimise performance, to see if this approach could challenge the KNN and random forest models in predictive accuracy."
      ],
      "metadata": {
        "id": "_XeogGdEpW-A"
      }
    }
  ]
}
